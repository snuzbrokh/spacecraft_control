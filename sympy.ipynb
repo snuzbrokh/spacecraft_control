{
 "cells": [
  {
   "cell_type": "code",
   "execution_count": 222,
   "metadata": {},
   "outputs": [],
   "source": [
    "import sympy\n",
    "from sympy import symbols\n",
    "from sympy.physics.mechanics import inertia, dynamicsymbols, Point, ReferenceFrame, RigidBody, outer, linear_momentum, angular_momentum\n",
    "from sympy.physics.vector import init_vprinting\n",
    "from sympy import symbols, sin, cos, tan\n",
    "from sympy.physics.vector.printing import vpprint, vlatex\n",
    "\n",
    "from sympy import latex\n",
    "\n",
    "latexReplaceRules = {\n",
    "    # r'{\\left(t \\right)}':r' ',\n",
    "    r'\\frac{d}{d t}':r'\\dot',\n",
    "    r'\\frac{d^{2}}{d t^{2}}':r'\\ddot',\n",
    "}\n",
    "def latexNew(expr,**kwargs):\n",
    "    retStr = latex(expr,**kwargs)\n",
    "    for _,__ in latexReplaceRules.items():\n",
    "        retStr = retStr.replace(_,__)\n",
    "    return retStr\n",
    "\n",
    "\n",
    "# Example usage\n",
    "from sympy import init_printing\n",
    "init_printing(use_latex=True)\n",
    "\n",
    "init_printing(latex_printer=latexNew)\n",
    "\n",
    "\n"
   ]
  },
  {
   "cell_type": "code",
   "execution_count": 235,
   "metadata": {},
   "outputs": [],
   "source": [
    "# Set up Inertial and Body Frames\n",
    "ox, oy, oz = dynamicsymbols('omega_x omega_y omega_z')\n",
    "\n",
    "N = ReferenceFrame('N')\n",
    "\n",
    "B = N.orientnew('B', 'Body', [0, 0, 0], 'XYZ')\n",
    "\n",
    "angular_velocity_vector = ox*B.x + oy*B.y + oz*B.z\n",
    "\n",
    "B.set_ang_vel(N, angular_velocity_vector)\n",
    "# B.ang_vel_in(N)\n",
    "\n",
    "# Set up Gyro and Wheel Frames\n",
    "gamma, Omega = dynamicsymbols('gamma Omega')\n",
    "# gamma_0 = symbols('gamma_0')\n",
    "\n",
    "total_gamma = gamma #- gamma_0\n",
    "t = symbols('t')\n",
    "\n",
    "G = ReferenceFrame('G')\n",
    "\n",
    "# Manually set the LaTeX representation for the unit vectors\n",
    "G.x._latex = lambda self: r'\\hat{\\mathbf{g}}_{s}'\n",
    "G.y._latex = lambda self: r'\\hat{\\mathbf{g}}_{t}'\n",
    "G.z._latex = lambda self: r'\\hat{\\mathbf{g}}_{g}'\n",
    "\n",
    "W = ReferenceFrame('W')\n",
    "\n",
    "G.orient(B, 'Axis', [total_gamma, B.z])\n",
    "W.orient(G, 'Axis', [0, G.x])\n",
    "W.set_ang_vel(G, Omega * G.x)\n",
    "\n",
    "dcm_BG = B.dcm(G)"
   ]
  },
  {
   "cell_type": "code",
   "execution_count": 236,
   "metadata": {},
   "outputs": [
    {
     "data": {
      "image/png": "[encoded data removed]",
      "text/latex": [
       "$\\displaystyle \\Omega{\\left(t \\right)}\\mathbf{\\hat{g}_x}$"
      ],
      "text/plain": [
       "Ω(t) g_x"
      ]
     },
     "execution_count": 236,
     "metadata": {},
     "output_type": "execute_result"
    }
   ],
   "source": [
    "# Inetia tensors\n",
    "I_Gs, I_Gt, I_Gg, I_Ws, I_Wt = symbols('I_{G_s} I_{G_t} I_{G_g} I_{W_s} I_{W_t}')\n",
    "I_Sx, I_Sy, I_Sz = symbols('I_{S_x} I_{S_y} I_{S_z}')\n",
    "\n",
    "inertia_sc = inertia(B, I_Sx, I_Sy, I_Sz)\n",
    "inertia_gyro = inertia(G, I_Gs, I_Gt, I_Gg)\n",
    "inertia_wheel = inertia(W, I_Ws, I_Wt, I_Wt)\n",
    "\n",
    "# inertia_gyro.to_matrix(G)\n",
    "\n",
    "# inertia_wheel.to_matrix(G)\n",
    "\n",
    "omega_G_B_G = G.ang_vel_in(B).express(G)\n",
    "omega_W_G_G = W.ang_vel_in(G).express(G)\n",
    "\n",
    "omega_W_G_G"
   ]
  },
  {
   "cell_type": "code",
   "execution_count": 237,
   "metadata": {},
   "outputs": [
    {
     "data": {
      "image/png": "[encoded data removed]",
      "text/latex": [
       "$\\displaystyle (I_{G_s} \\dot \\omega_{s}{\\left(t \\right)} - I_{G_t} \\omega_{t}{\\left(t \\right)} \\dot \\gamma{\\left(t \\right)})\\mathbf{\\hat{g}_x} + (I_{G_s} \\omega_{s}{\\left(t \\right)} \\dot \\gamma{\\left(t \\right)} + I_{G_t} \\dot \\omega_{t}{\\left(t \\right)})\\mathbf{\\hat{g}_y} + I_{G_g} \\left(\\ddot \\gamma{\\left(t \\right)} + \\dot \\omega_{g}{\\left(t \\right)}\\right)\\mathbf{\\hat{g}_z}$"
      ],
      "text/plain": [
       "\n",
       "⎛        d                         d       ⎞       ⎛              d\n",
       "⎜I_{G_s}⋅──(ωₛ(t)) - I_{G_t}⋅ωₜ(t)⋅──(γ(t))⎟ g_x + ⎜I_{G_s}⋅ωₛ(t)⋅──(γ(t)) + I\n",
       "⎝        dt                        dt      ⎠       ⎝              dt\n",
       "\n",
       "\n",
       "                                ⎛  2                   ⎞\n",
       "       d        ⎞               ⎜ d          d         ⎟\n",
       "_{G_t}⋅──(ωₜ(t))⎟ g_y + I_{G_g}⋅⎜───(γ(t)) + ──(ω_g(t))⎟ g_z\n",
       "       dt       ⎠               ⎜  2         dt        ⎟\n",
       "                                ⎝dt                    ⎠"
      ]
     },
     "execution_count": 237,
     "metadata": {},
     "output_type": "execute_result"
    }
   ],
   "source": [
    "x,y,z, vx, vy, vz, m_sc, m_g, m_w, l = symbols('x y z v_x v_y v_z m_{sc} m_g m_w l')\n",
    "position_sc = x*N.x + y*N.y + z*N.z\n",
    "velocity_sc = vx*N.x + vy*N.y + vz*N.z \n",
    "\n",
    "position_vscmg = l*B.z\n",
    "\n",
    "O = Point('O')\n",
    "P_sc = O.locatenew('P_{sc}', position_sc)\n",
    "P_sc.set_vel(N, velocity_sc)\n",
    "\n",
    "G_cm = P_sc.locatenew('G_{cm}', position_vscmg)\n",
    "G_cm.set_vel(B, 0) # The COM of the VSCMG is not moving wrt to the spacecraft body frame\n",
    "\n",
    "\n",
    "\n",
    "spacecraft = RigidBody('SC', P_sc, B, m_sc, (inertia_sc, P_sc))\n",
    "gyro = RigidBody('Gyro', G_cm, G, m_g, (inertia_gyro, G_cm))\n",
    "wheel = RigidBody('Wheel', G_cm, W, m_w, (inertia_wheel, G_cm))\n",
    "\n",
    "# SC.kinetic_energy(N)\n",
    "omega, omega_s, omega_t, omega_g = dynamicsymbols('omega omega_s omega_t omega_g')\n",
    "\n",
    "definition = {\n",
    "    G.x.dot(angular_velocity_vector) : omega_s ,\n",
    "    G.y.dot(angular_velocity_vector) : omega_t,\n",
    "    G.z.dot(angular_velocity_vector) : omega_g,\n",
    "    # omega_s * G.x + omega_t * G.y + omega_g * G.z : omega\n",
    "}\n",
    "\n",
    "# definition = {\n",
    "#     omega_s * G.x + omega_t * G.y + omega_g * G.z : omega\n",
    "# }\n",
    "\n",
    "H_B = spacecraft.angular_momentum(P_sc, N).express(B).subs(definition)\n",
    "H_G = gyro.angular_momentum(G_cm, N).subs(definition)\n",
    "H_W = wheel.angular_momentum(G_cm, N).subs(definition)\n",
    "\n",
    "\n",
    "\n",
    "init_printing(latex_printer=latexNew)\n",
    "\n",
    "H_G.diff(t,N).express(G).simplify()\n"
   ]
  },
  {
   "cell_type": "code",
   "execution_count": 238,
   "metadata": {},
   "outputs": [
    {
     "data": {
      "text/latex": [
       "$\\displaystyle \\left[\\begin{matrix}I_{W_s} \\dot \\Omega{\\left(t \\right)} + I_{W_s} \\dot \\omega_{s}{\\left(t \\right)} - I_{W_t} \\omega_{t}{\\left(t \\right)} \\dot \\gamma{\\left(t \\right)}\\\\I_{W_s} \\Omega{\\left(t \\right)} \\dot \\gamma{\\left(t \\right)} + I_{W_s} \\omega_{s}{\\left(t \\right)} \\dot \\gamma{\\left(t \\right)} + I_{W_t} \\dot \\omega_{t}{\\left(t \\right)}\\\\I_{W_t} \\left(\\ddot \\gamma{\\left(t \\right)} + \\dot \\omega_{g}{\\left(t \\right)}\\right)\\end{matrix}\\right]$"
      ],
      "text/plain": [
       "⎡          d                  d                         d          ⎤\n",
       "⎢  I_{W_s}⋅──(Ω(t)) + I_{W_s}⋅──(ωₛ(t)) - I_{W_t}⋅ωₜ(t)⋅──(γ(t))   ⎥\n",
       "⎢          dt                 dt                        dt         ⎥\n",
       "⎢                                                                  ⎥\n",
       "⎢             d                        d                  d        ⎥\n",
       "⎢I_{W_s}⋅Ω(t)⋅──(γ(t)) + I_{W_s}⋅ωₛ(t)⋅──(γ(t)) + I_{W_t}⋅──(ωₜ(t))⎥\n",
       "⎢             dt                       dt                 dt       ⎥\n",
       "⎢                                                                  ⎥\n",
       "⎢                         ⎛  2                   ⎞                 ⎥\n",
       "⎢                         ⎜ d          d         ⎟                 ⎥\n",
       "⎢                 I_{W_t}⋅⎜───(γ(t)) + ──(ω_g(t))⎟                 ⎥\n",
       "⎢                         ⎜  2         dt        ⎟                 ⎥\n",
       "⎣                         ⎝dt                    ⎠                 ⎦"
      ]
     },
     "execution_count": 238,
     "metadata": {},
     "output_type": "execute_result"
    }
   ],
   "source": [
    "H_W.diff(t, N).express(G).simplify().to_matrix(G)"
   ]
  },
  {
   "cell_type": "code",
   "execution_count": 239,
   "metadata": {},
   "outputs": [
    {
     "data": {
      "image/png": "[encoded data removed]",
      "text/latex": [
       "$\\displaystyle (I_{G_s} \\dot \\omega_{s}{\\left(t \\right)} - I_{G_t} \\omega_{t}{\\left(t \\right)} \\dot \\gamma{\\left(t \\right)})\\mathbf{\\hat{g}_x} + (I_{G_s} \\omega_{s}{\\left(t \\right)} \\dot \\gamma{\\left(t \\right)} + I_{G_t} \\dot \\omega_{t}{\\left(t \\right)})\\mathbf{\\hat{g}_y} + I_{G_g} \\left(\\ddot \\gamma{\\left(t \\right)} + \\dot \\omega_{g}{\\left(t \\right)}\\right)\\mathbf{\\hat{g}_z}$"
      ],
      "text/plain": [
       "\n",
       "⎛        d                         d       ⎞       ⎛              d\n",
       "⎜I_{G_s}⋅──(ωₛ(t)) - I_{G_t}⋅ωₜ(t)⋅──(γ(t))⎟ g_x + ⎜I_{G_s}⋅ωₛ(t)⋅──(γ(t)) + I\n",
       "⎝        dt                        dt      ⎠       ⎝              dt\n",
       "\n",
       "\n",
       "                                ⎛  2                   ⎞\n",
       "       d        ⎞               ⎜ d          d         ⎟\n",
       "_{G_t}⋅──(ωₜ(t))⎟ g_y + I_{G_g}⋅⎜───(γ(t)) + ──(ω_g(t))⎟ g_z\n",
       "       dt       ⎠               ⎜  2         dt        ⎟\n",
       "                                ⎝dt                    ⎠"
      ]
     },
     "execution_count": 239,
     "metadata": {},
     "output_type": "execute_result"
    }
   ],
   "source": [
    "gs_dot = G.x.dt(N).subs(definition)\n",
    "gt_dot = G.y.dt(N).subs(definition)\n",
    "gg_dot = G.z.dt(N).subs(definition)\n",
    "\n",
    "domega_s = (gs_dot.dot(angular_velocity_vector) + G.x.dot(angular_velocity_vector.dt(N))).subs(definition).simplify()\n",
    "domega_t = (gt_dot.dot(angular_velocity_vector) + G.y.dot(angular_velocity_vector.dt(N))).subs(definition).simplify()\n",
    "domega_g = (gg_dot.dot(angular_velocity_vector) + G.z.dot(angular_velocity_vector.dt(N))).subs(definition).simplify()\n",
    "\n",
    "\n",
    "H_G.diff(t,N).express(G).simplify()"
   ]
  },
  {
   "cell_type": "code",
   "execution_count": 263,
   "metadata": {},
   "outputs": [
    {
     "data": {
      "image/png": "[encoded data removed]",
      "text/latex": [
       "$\\displaystyle \\dot \\Omega{\\left(t \\right)}$"
      ],
      "text/plain": [
       "d       \n",
       "──(Ω(t))\n",
       "dt      "
      ]
     },
     "execution_count": 263,
     "metadata": {},
     "output_type": "execute_result"
    }
   ],
   "source": [
    "Omega.diff(t)"
   ]
  },
  {
   "cell_type": "code",
   "execution_count": 267,
   "metadata": {},
   "outputs": [
    {
     "data": {
      "image/png": "[encoded data removed]",
      "text/latex": [
       "$\\displaystyle \\dot \\omega_{x}{\\left(t \\right)}\\mathbf{\\hat{b}_x} + \\dot \\omega_{y}{\\left(t \\right)}\\mathbf{\\hat{b}_y} + \\dot \\omega_{z}{\\left(t \\right)}\\mathbf{\\hat{b}_z}$"
      ],
      "text/plain": [
       "d               d                d\n",
       "──(ωₓ(t)) b_x + ──(ω_y(t)) b_y + ──(ω_z(t)) b_z\n",
       "dt              dt               dt"
      ]
     },
     "execution_count": 267,
     "metadata": {},
     "output_type": "execute_result"
    }
   ],
   "source": [
    "angular_velocity_vector.diff(t,N)"
   ]
  },
  {
   "cell_type": "code",
   "execution_count": 275,
   "metadata": {},
   "outputs": [],
   "source": [
    "J_s, J_t, J_g  = (inertia_gyro + inertia_wheel).to_matrix(G).diagonal()\n",
    "J = inertia(G, J_s, J_t, J_g)\n",
    "\n",
    "\n",
    "spin_control_torque = dynamicsymbols('u_s')\n",
    "gimbal_torque = dynamicsymbols('u_g')\n",
    "\n",
    "definition3 = {\n",
    "    I_Ws*(Omega.diff(t) + G.x.dot(angular_velocity_vector.diff(t,N)) + gamma.diff(t)*omega_t) : spin_control_torque,\n",
    "    J_g*(G.z.dot(angular_velocity_vector.diff(t,N)) + gamma.diff(t).diff(t)) - (J_s - J_t)*omega_s*omega_t - I_Ws*Omega*omega_t: gimbal_torque\n",
    "}\n",
    "\n",
    "definition4 = {\n",
    "    I_Gg + I_Wt : J_g,\n",
    "    I_Gs + I_Ws : J_s,\n",
    "    I_Gt + I_Wt : J_t\n",
    "}\n",
    "\n"
   ]
  },
  {
   "cell_type": "code",
   "execution_count": 274,
   "metadata": {},
   "outputs": [
    {
     "data": {
      "image/png": "[encoded data removed]",
      "text/latex": [
       "$\\displaystyle (I_{G_s} + I_{W_s})\\hat{\\mathbf{g}}_{s}\\otimes \\hat{\\mathbf{g}}_{s} + (I_{G_t} + I_{W_t})\\hat{\\mathbf{g}}_{t}\\otimes \\hat{\\mathbf{g}}_{t} + (I_{G_g} + I_{W_t})\\hat{\\mathbf{g}}_{g}\\otimes \\hat{\\mathbf{g}}_{g}$"
      ],
      "text/plain": [
       "(I_{G_s} + I_{W_s}) g_x⊗g_x + (I_{G_t} + I_{W_t}) g_y⊗g_y + (I_{G_g} + I_{W_t}) g_z⊗g_z"
      ]
     },
     "execution_count": 274,
     "metadata": {},
     "output_type": "execute_result"
    }
   ],
   "source": [
    "J"
   ]
  },
  {
   "cell_type": "code",
   "execution_count": 256,
   "metadata": {},
   "outputs": [],
   "source": [
    "dH_B = H_B.dt(N).subs(definition).simplify()\n",
    "dH_G = H_G.dt(N).subs(definition).simplify()\n",
    "dH_W = H_W.dt(N).subs(definition).simplify()\n",
    "\n"
   ]
  },
  {
   "cell_type": "code",
   "execution_count": 279,
   "metadata": {},
   "outputs": [
    {
     "data": {
      "image/png": "[encoded data removed]",
      "text/latex": [
       "$\\displaystyle (I_{G_g} \\left(\\omega_{g}{\\left(t \\right)} + \\dot \\gamma{\\left(t \\right)}\\right) \\omega_{t}{\\left(t \\right)} + I_{G_s} \\dot \\omega_{s}{\\left(t \\right)} - I_{G_t} \\left(\\omega_{g}{\\left(t \\right)} + \\dot \\gamma{\\left(t \\right)}\\right) \\omega_{t}{\\left(t \\right)})\\mathbf{\\hat{g}_x} + (- I_{G_g} \\left(\\omega_{g}{\\left(t \\right)} + \\dot \\gamma{\\left(t \\right)}\\right) \\omega_{s}{\\left(t \\right)} + I_{G_s} \\left(\\omega_{g}{\\left(t \\right)} + \\dot \\gamma{\\left(t \\right)}\\right) \\omega_{s}{\\left(t \\right)} + I_{G_t} \\dot \\omega_{t}{\\left(t \\right)})\\mathbf{\\hat{g}_y} + (I_{G_g} \\left(\\ddot \\gamma{\\left(t \\right)} + \\dot \\omega_{g}{\\left(t \\right)}\\right) - I_{G_s} \\omega_{s}{\\left(t \\right)} \\omega_{t}{\\left(t \\right)} + I_{G_t} \\omega_{s}{\\left(t \\right)} \\omega_{t}{\\left(t \\right)})\\mathbf{\\hat{g}_z} + (I_{S_x} \\dot \\omega_{x}{\\left(t \\right)} - I_{S_y} \\omega_{g}{\\left(t \\right)} \\omega_{y}{\\left(t \\right)} + I_{S_z} \\omega_{g}{\\left(t \\right)} \\omega_{y}{\\left(t \\right)})\\mathbf{\\hat{b}_x} + (I_{S_x} \\omega_{g}{\\left(t \\right)} \\omega_{x}{\\left(t \\right)} + I_{S_y} \\dot \\omega_{y}{\\left(t \\right)} - I_{S_z} \\omega_{g}{\\left(t \\right)} \\omega_{x}{\\left(t \\right)})\\mathbf{\\hat{b}_y} + (- I_{S_x} \\omega_{x}{\\left(t \\right)} \\omega_{y}{\\left(t \\right)} + I_{S_y} \\omega_{x}{\\left(t \\right)} \\omega_{y}{\\left(t \\right)} + I_{S_z} \\dot \\omega_{g}{\\left(t \\right)})\\mathbf{\\hat{b}_z} + I_{W_s} \\left(\\dot \\Omega{\\left(t \\right)} + \\dot \\omega_{s}{\\left(t \\right)}\\right)\\mathbf{\\hat{w}_x} + (I_{W_s} \\left(\\Omega{\\left(t \\right)} + \\omega_{s}{\\left(t \\right)}\\right) \\left(\\omega_{g}{\\left(t \\right)} + \\dot \\gamma{\\left(t \\right)}\\right) - I_{W_t} \\left(\\Omega{\\left(t \\right)} + \\omega_{s}{\\left(t \\right)}\\right) \\left(\\omega_{g}{\\left(t \\right)} + \\dot \\gamma{\\left(t \\right)}\\right) + I_{W_t} \\dot \\omega_{t}{\\left(t \\right)})\\mathbf{\\hat{w}_y} + (- I_{W_s} \\left(\\Omega{\\left(t \\right)} + \\omega_{s}{\\left(t \\right)}\\right) \\omega_{t}{\\left(t \\right)} + I_{W_t} \\left(\\Omega{\\left(t \\right)} + \\omega_{s}{\\left(t \\right)}\\right) \\omega_{t}{\\left(t \\right)} + I_{W_t} \\left(\\ddot \\gamma{\\left(t \\right)} + \\dot \\omega_{g}{\\left(t \\right)}\\right))\\mathbf{\\hat{w}_z}$"
      ],
      "text/plain": [
       "\n",
       "⎛        ⎛         d       ⎞                 d                   ⎛         d\n",
       "⎜I_{G_g}⋅⎜ω_g(t) + ──(γ(t))⎟⋅ωₜ(t) + I_{G_s}⋅──(ωₛ(t)) - I_{G_t}⋅⎜ω_g(t) + ──(\n",
       "⎝        ⎝         dt      ⎠                 dt                  ⎝         dt\n",
       "\n",
       "\n",
       "\n",
       "     ⎞      ⎞       ⎛          ⎛         d       ⎞                 ⎛         d\n",
       "γ(t))⎟⋅ωₜ(t)⎟ g_x + ⎜- I_{G_g}⋅⎜ω_g(t) + ──(γ(t))⎟⋅ωₛ(t) + I_{G_s}⋅⎜ω_g(t) + ─\n",
       "     ⎠      ⎠       ⎝          ⎝         dt      ⎠                 ⎝         d\n",
       "\n",
       "\n",
       "                                          ⎛        ⎛  2                   ⎞\n",
       "       ⎞                 d        ⎞       ⎜        ⎜ d          d         ⎟\n",
       "─(γ(t))⎟⋅ωₛ(t) + I_{G_t}⋅──(ωₜ(t))⎟ g_y + ⎜I_{G_g}⋅⎜───(γ(t)) + ──(ω_g(t))⎟ -\n",
       "t      ⎠                 dt       ⎠       ⎜        ⎜  2         dt        ⎟\n",
       "                                          ⎝        ⎝dt                    ⎠\n",
       "\n",
       "                                         ⎞\n",
       "                                         ⎟       ⎛        d\n",
       "I_{G_s}⋅ωₛ(t)⋅ωₜ(t) + I_{G_t}⋅ωₛ(t)⋅ωₜ(t)⎟ g_z + ⎜I_{S_x}⋅──(ωₓ(t)) - I_{S_y}⋅\n",
       "                                         ⎟       ⎝        dt\n",
       "                                         ⎠\n",
       "\n",
       "\n",
       "                                     ⎞       ⎛                               d\n",
       "ω_g(t)⋅ω_y(t) + I_{S_z}⋅ω_g(t)⋅ω_y(t)⎟ b_x + ⎜I_{S_x}⋅ω_g(t)⋅ωₓ(t) + I_{S_y}⋅─\n",
       "                                     ⎠       ⎝                               d\n",
       "\n",
       "\n",
       "\n",
       "                                ⎞       ⎛\n",
       "─(ω_y(t)) - I_{S_z}⋅ω_g(t)⋅ωₓ(t)⎟ b_y + ⎜-I_{S_x}⋅ωₓ(t)⋅ω_y(t) + I_{S_y}⋅ωₓ(t)\n",
       "t                               ⎠       ⎝\n",
       "\n",
       "\n",
       "\n",
       "                  d         ⎞               ⎛d          d        ⎞       ⎛\n",
       "⋅ω_y(t) + I_{S_z}⋅──(ω_g(t))⎟ b_z + I_{W_s}⋅⎜──(Ω(t)) + ──(ωₛ(t))⎟ w_x + ⎜I_{W\n",
       "                  dt        ⎠               ⎝dt         dt       ⎠       ⎝\n",
       "\n",
       "\n",
       "\n",
       "                   ⎛         d       ⎞                          ⎛         d\n",
       "_s}⋅(Ω(t) + ωₛ(t))⋅⎜ω_g(t) + ──(γ(t))⎟ - I_{W_t}⋅(Ω(t) + ωₛ(t))⋅⎜ω_g(t) + ──(γ\n",
       "                   ⎝         dt      ⎠                          ⎝         dt\n",
       "\n",
       "\n",
       "                                 ⎛\n",
       "    ⎞           d        ⎞       ⎜\n",
       "(t))⎟ + I_{W_t}⋅──(ωₜ(t))⎟ w_y + ⎜-I_{W_s}⋅(Ω(t) + ωₛ(t))⋅ωₜ(t) + I_{W_t}⋅(Ω(t\n",
       "    ⎠           dt       ⎠       ⎜\n",
       "                                 ⎝\n",
       "\n",
       "                           ⎛  2                   ⎞⎞\n",
       "                           ⎜ d          d         ⎟⎟\n",
       ") + ωₛ(t))⋅ωₜ(t) + I_{W_t}⋅⎜───(γ(t)) + ──(ω_g(t))⎟⎟ w_z\n",
       "                           ⎜  2         dt        ⎟⎟\n",
       "                           ⎝dt                    ⎠⎠"
      ]
     },
     "execution_count": 279,
     "metadata": {},
     "output_type": "execute_result"
    }
   ],
   "source": [
    "(dH_G + dH_B + dH_W).simplify().subs(definition4).simplify()"
   ]
  },
  {
   "cell_type": "code",
   "execution_count": 130,
   "metadata": {},
   "outputs": [
    {
     "data": {
      "image/png": "[encoded data removed]",
      "text/latex": [
       "$\\displaystyle (\\left(I_{G_s} + I_{W_s}\\right) \\cos^{2}{\\left(\\gamma{\\left(t \\right)} \\right)} + \\left(I_{G_t} + I_{W_t}\\right) \\sin^{2}{\\left(\\gamma{\\left(t \\right)} \\right)})\\mathbf{\\hat{b}_x}\\otimes \\mathbf{\\hat{b}_x} + (\\left(I_{G_s} + I_{W_s}\\right) \\sin{\\left(\\gamma{\\left(t \\right)} \\right)} \\cos{\\left(\\gamma{\\left(t \\right)} \\right)} - \\left(I_{G_t} + I_{W_t}\\right) \\sin{\\left(\\gamma{\\left(t \\right)} \\right)} \\cos{\\left(\\gamma{\\left(t \\right)} \\right)})\\mathbf{\\hat{b}_x}\\otimes \\mathbf{\\hat{b}_y} + (\\left(I_{G_s} + I_{W_s}\\right) \\sin{\\left(\\gamma{\\left(t \\right)} \\right)} \\cos{\\left(\\gamma{\\left(t \\right)} \\right)} - \\left(I_{G_t} + I_{W_t}\\right) \\sin{\\left(\\gamma{\\left(t \\right)} \\right)} \\cos{\\left(\\gamma{\\left(t \\right)} \\right)})\\mathbf{\\hat{b}_y}\\otimes \\mathbf{\\hat{b}_x} + (\\left(I_{G_s} + I_{W_s}\\right) \\sin^{2}{\\left(\\gamma{\\left(t \\right)} \\right)} + \\left(I_{G_t} + I_{W_t}\\right) \\cos^{2}{\\left(\\gamma{\\left(t \\right)} \\right)})\\mathbf{\\hat{b}_y}\\otimes \\mathbf{\\hat{b}_y} + (I_{G_g} + I_{W_t})\\mathbf{\\hat{b}_z}\\otimes \\mathbf{\\hat{b}_z}$"
      ],
      "text/plain": [
       "⎛                       2                                2      ⎞\n",
       "⎝(I_{G_s} + I_{W_s})⋅cos (γ(t)) + (I_{G_t} + I_{W_t})⋅sin (γ(t))⎠ b_x⊗b_x + ((I_{G_s} + I_{W_s})⋅sin(γ(t))⋅cos(γ(t)) - (I_{G_t} + I_{W_t})⋅sin(γ(t))⋅cos(γ(t))) b_x⊗b_y + ((I_{G_s} + I_{W_s})⋅sin(γ(t))⋅cos(γ(t)) - (I_{G_t} + I_{W_t})⋅sin(γ(t))⋅cos(γ(t))) b_y⊗b_x + ⎛                       2                                2      ⎞\n",
       "⎝(I_{G_s} + I_{W_s})⋅sin (γ(t)) + (I_{G_t} + I_{W_t})⋅cos (γ(t))⎠ b_y⊗b_y + (I_{G_g} + I_{W_t}) b_z⊗b_z"
      ]
     },
     "execution_count": 130,
     "metadata": {},
     "output_type": "execute_result"
    }
   ],
   "source": [
    "\n"
   ]
  },
  {
   "cell_type": "code",
   "execution_count": 116,
   "metadata": {},
   "outputs": [],
   "source": [
    "definition2 = {\n",
    "    omega_s * G.x + omega_t * G.y + omega_g * G.z : omega\n",
    "    \n",
    "}\n",
    "\n",
    "from sympy.physics.mechanics import time_derivative\n",
    "\n",
    "H = H_B + H_G + H_W\n",
    "\n",
    "\n",
    "gs_dot = G.x.dt(N).subs(definition)\n",
    "gt_dot = G.y.dt(N).subs(definition)\n",
    "gg_dot = G.z.dt(N).subs(definition)\n",
    "\n"
   ]
  },
  {
   "cell_type": "code",
   "execution_count": 132,
   "metadata": {},
   "outputs": [
    {
     "ename": "SympifyError",
     "evalue": "SympifyError: omega_s(t)*G.x + omega_t(t)*G.y + omega_g(t)*G.z",
     "output_type": "error",
     "traceback": [
      "\u001b[0;31m---------------------------------------------------------------------------\u001b[0m",
      "\u001b[0;31mSympifyError\u001b[0m                              Traceback (most recent call last)",
      "Cell \u001b[0;32mIn[132], line 1\u001b[0m\n\u001b[0;32m----> 1\u001b[0m \u001b[43mH\u001b[49m\u001b[38;5;241;43m.\u001b[39;49m\u001b[43mdiff\u001b[49m\u001b[43m(\u001b[49m\u001b[43mt\u001b[49m\u001b[43m,\u001b[49m\u001b[43m \u001b[49m\u001b[43mN\u001b[49m\u001b[43m)\u001b[49m\u001b[38;5;241;43m.\u001b[39;49m\u001b[43mexpress\u001b[49m\u001b[43m(\u001b[49m\u001b[43mG\u001b[49m\u001b[43m)\u001b[49m\u001b[38;5;241;43m.\u001b[39;49m\u001b[43msubs\u001b[49m\u001b[43m(\u001b[49m\u001b[43mdefinition2\u001b[49m\u001b[43m)\u001b[49m\n",
      "File \u001b[0;32m~/miniconda3/envs/space/lib/python3.10/site-packages/sympy/physics/vector/vector.py:681\u001b[0m, in \u001b[0;36mVector.subs\u001b[0;34m(self, *args, **kwargs)\u001b[0m\n\u001b[1;32m    679\u001b[0m d \u001b[38;5;241m=\u001b[39m {}\n\u001b[1;32m    680\u001b[0m \u001b[38;5;28;01mfor\u001b[39;00m v \u001b[38;5;129;01min\u001b[39;00m \u001b[38;5;28mself\u001b[39m\u001b[38;5;241m.\u001b[39margs:\n\u001b[0;32m--> 681\u001b[0m     d[v[\u001b[38;5;241m1\u001b[39m]] \u001b[38;5;241m=\u001b[39m \u001b[43mv\u001b[49m\u001b[43m[\u001b[49m\u001b[38;5;241;43m0\u001b[39;49m\u001b[43m]\u001b[49m\u001b[38;5;241;43m.\u001b[39;49m\u001b[43msubs\u001b[49m\u001b[43m(\u001b[49m\u001b[38;5;241;43m*\u001b[39;49m\u001b[43margs\u001b[49m\u001b[43m,\u001b[49m\u001b[43m \u001b[49m\u001b[38;5;241;43m*\u001b[39;49m\u001b[38;5;241;43m*\u001b[39;49m\u001b[43mkwargs\u001b[49m\u001b[43m)\u001b[49m\n\u001b[1;32m    682\u001b[0m \u001b[38;5;28;01mreturn\u001b[39;00m Vector(d)\n",
      "File \u001b[0;32m~/miniconda3/envs/space/lib/python3.10/site-packages/sympy/matrices/common.py:2357\u001b[0m, in \u001b[0;36mMatrixOperations.subs\u001b[0;34m(self, *args, **kwargs)\u001b[0m\n\u001b[1;32m   2354\u001b[0m \u001b[38;5;28;01mif\u001b[39;00m \u001b[38;5;28mlen\u001b[39m(args) \u001b[38;5;241m==\u001b[39m \u001b[38;5;241m1\u001b[39m \u001b[38;5;129;01mand\u001b[39;00m  \u001b[38;5;129;01mnot\u001b[39;00m \u001b[38;5;28misinstance\u001b[39m(args[\u001b[38;5;241m0\u001b[39m], (\u001b[38;5;28mdict\u001b[39m, \u001b[38;5;28mset\u001b[39m)) \u001b[38;5;129;01mand\u001b[39;00m \u001b[38;5;28miter\u001b[39m(args[\u001b[38;5;241m0\u001b[39m]) \u001b[38;5;129;01mand\u001b[39;00m \u001b[38;5;129;01mnot\u001b[39;00m is_sequence(args[\u001b[38;5;241m0\u001b[39m]):\n\u001b[1;32m   2355\u001b[0m     args \u001b[38;5;241m=\u001b[39m (\u001b[38;5;28mlist\u001b[39m(args[\u001b[38;5;241m0\u001b[39m]),)\n\u001b[0;32m-> 2357\u001b[0m \u001b[38;5;28;01mreturn\u001b[39;00m \u001b[38;5;28;43mself\u001b[39;49m\u001b[38;5;241;43m.\u001b[39;49m\u001b[43mapplyfunc\u001b[49m\u001b[43m(\u001b[49m\u001b[38;5;28;43;01mlambda\u001b[39;49;00m\u001b[43m \u001b[49m\u001b[43mx\u001b[49m\u001b[43m:\u001b[49m\u001b[43m \u001b[49m\u001b[43mx\u001b[49m\u001b[38;5;241;43m.\u001b[39;49m\u001b[43msubs\u001b[49m\u001b[43m(\u001b[49m\u001b[38;5;241;43m*\u001b[39;49m\u001b[43margs\u001b[49m\u001b[43m,\u001b[49m\u001b[43m \u001b[49m\u001b[38;5;241;43m*\u001b[39;49m\u001b[38;5;241;43m*\u001b[39;49m\u001b[43mkwargs\u001b[49m\u001b[43m)\u001b[49m\u001b[43m)\u001b[49m\n",
      "File \u001b[0;32m~/miniconda3/envs/space/lib/python3.10/site-packages/sympy/matrices/common.py:1989\u001b[0m, in \u001b[0;36mMatrixOperations.applyfunc\u001b[0;34m(self, f)\u001b[0m\n\u001b[1;32m   1986\u001b[0m \u001b[38;5;28;01mif\u001b[39;00m \u001b[38;5;129;01mnot\u001b[39;00m \u001b[38;5;28mcallable\u001b[39m(f):\n\u001b[1;32m   1987\u001b[0m     \u001b[38;5;28;01mraise\u001b[39;00m \u001b[38;5;167;01mTypeError\u001b[39;00m(\u001b[38;5;124m\"\u001b[39m\u001b[38;5;124m`f` must be callable.\u001b[39m\u001b[38;5;124m\"\u001b[39m)\n\u001b[0;32m-> 1989\u001b[0m \u001b[38;5;28;01mreturn\u001b[39;00m \u001b[38;5;28;43mself\u001b[39;49m\u001b[38;5;241;43m.\u001b[39;49m\u001b[43m_eval_applyfunc\u001b[49m\u001b[43m(\u001b[49m\u001b[43mf\u001b[49m\u001b[43m)\u001b[49m\n",
      "File \u001b[0;32m~/miniconda3/envs/space/lib/python3.10/site-packages/sympy/matrices/common.py:1931\u001b[0m, in \u001b[0;36mMatrixOperations._eval_applyfunc\u001b[0;34m(self, f)\u001b[0m\n\u001b[1;32m   1930\u001b[0m \u001b[38;5;28;01mdef\u001b[39;00m \u001b[38;5;21m_eval_applyfunc\u001b[39m(\u001b[38;5;28mself\u001b[39m, f):\n\u001b[0;32m-> 1931\u001b[0m     out \u001b[38;5;241m=\u001b[39m \u001b[38;5;28mself\u001b[39m\u001b[38;5;241m.\u001b[39m_new(\u001b[38;5;28mself\u001b[39m\u001b[38;5;241m.\u001b[39mrows, \u001b[38;5;28mself\u001b[39m\u001b[38;5;241m.\u001b[39mcols, [f(x) \u001b[38;5;28;01mfor\u001b[39;00m x \u001b[38;5;129;01min\u001b[39;00m \u001b[38;5;28mself\u001b[39m])\n\u001b[1;32m   1932\u001b[0m     \u001b[38;5;28;01mreturn\u001b[39;00m out\n",
      "File \u001b[0;32m~/miniconda3/envs/space/lib/python3.10/site-packages/sympy/matrices/common.py:1931\u001b[0m, in \u001b[0;36m<listcomp>\u001b[0;34m(.0)\u001b[0m\n\u001b[1;32m   1930\u001b[0m \u001b[38;5;28;01mdef\u001b[39;00m \u001b[38;5;21m_eval_applyfunc\u001b[39m(\u001b[38;5;28mself\u001b[39m, f):\n\u001b[0;32m-> 1931\u001b[0m     out \u001b[38;5;241m=\u001b[39m \u001b[38;5;28mself\u001b[39m\u001b[38;5;241m.\u001b[39m_new(\u001b[38;5;28mself\u001b[39m\u001b[38;5;241m.\u001b[39mrows, \u001b[38;5;28mself\u001b[39m\u001b[38;5;241m.\u001b[39mcols, [\u001b[43mf\u001b[49m\u001b[43m(\u001b[49m\u001b[43mx\u001b[49m\u001b[43m)\u001b[49m \u001b[38;5;28;01mfor\u001b[39;00m x \u001b[38;5;129;01min\u001b[39;00m \u001b[38;5;28mself\u001b[39m])\n\u001b[1;32m   1932\u001b[0m     \u001b[38;5;28;01mreturn\u001b[39;00m out\n",
      "File \u001b[0;32m~/miniconda3/envs/space/lib/python3.10/site-packages/sympy/matrices/common.py:2357\u001b[0m, in \u001b[0;36mMatrixOperations.subs.<locals>.<lambda>\u001b[0;34m(x)\u001b[0m\n\u001b[1;32m   2354\u001b[0m \u001b[38;5;28;01mif\u001b[39;00m \u001b[38;5;28mlen\u001b[39m(args) \u001b[38;5;241m==\u001b[39m \u001b[38;5;241m1\u001b[39m \u001b[38;5;129;01mand\u001b[39;00m  \u001b[38;5;129;01mnot\u001b[39;00m \u001b[38;5;28misinstance\u001b[39m(args[\u001b[38;5;241m0\u001b[39m], (\u001b[38;5;28mdict\u001b[39m, \u001b[38;5;28mset\u001b[39m)) \u001b[38;5;129;01mand\u001b[39;00m \u001b[38;5;28miter\u001b[39m(args[\u001b[38;5;241m0\u001b[39m]) \u001b[38;5;129;01mand\u001b[39;00m \u001b[38;5;129;01mnot\u001b[39;00m is_sequence(args[\u001b[38;5;241m0\u001b[39m]):\n\u001b[1;32m   2355\u001b[0m     args \u001b[38;5;241m=\u001b[39m (\u001b[38;5;28mlist\u001b[39m(args[\u001b[38;5;241m0\u001b[39m]),)\n\u001b[0;32m-> 2357\u001b[0m \u001b[38;5;28;01mreturn\u001b[39;00m \u001b[38;5;28mself\u001b[39m\u001b[38;5;241m.\u001b[39mapplyfunc(\u001b[38;5;28;01mlambda\u001b[39;00m x: \u001b[43mx\u001b[49m\u001b[38;5;241;43m.\u001b[39;49m\u001b[43msubs\u001b[49m\u001b[43m(\u001b[49m\u001b[38;5;241;43m*\u001b[39;49m\u001b[43margs\u001b[49m\u001b[43m,\u001b[49m\u001b[43m \u001b[49m\u001b[38;5;241;43m*\u001b[39;49m\u001b[38;5;241;43m*\u001b[39;49m\u001b[43mkwargs\u001b[49m\u001b[43m)\u001b[49m)\n",
      "File \u001b[0;32m~/miniconda3/envs/space/lib/python3.10/site-packages/sympy/core/basic.py:991\u001b[0m, in \u001b[0;36mBasic.subs\u001b[0;34m(self, *args, **kwargs)\u001b[0m\n\u001b[1;32m    988\u001b[0m     \u001b[38;5;28;01melse\u001b[39;00m:\n\u001b[1;32m    989\u001b[0m         \u001b[38;5;28;01mreturn\u001b[39;00m sympify(new, strict\u001b[38;5;241m=\u001b[39m\u001b[38;5;28;01mTrue\u001b[39;00m)\n\u001b[0;32m--> 991\u001b[0m sequence \u001b[38;5;241m=\u001b[39m [(sympify_old(s1), sympify_new(s2)) \u001b[38;5;28;01mfor\u001b[39;00m s1, s2 \u001b[38;5;129;01min\u001b[39;00m sequence]\n\u001b[1;32m    993\u001b[0m \u001b[38;5;66;03m# skip if there is no change\u001b[39;00m\n\u001b[1;32m    994\u001b[0m sequence \u001b[38;5;241m=\u001b[39m [(s1, s2) \u001b[38;5;28;01mfor\u001b[39;00m s1, s2 \u001b[38;5;129;01min\u001b[39;00m sequence \u001b[38;5;28;01mif\u001b[39;00m \u001b[38;5;129;01mnot\u001b[39;00m _aresame(s1, s2)]\n",
      "File \u001b[0;32m~/miniconda3/envs/space/lib/python3.10/site-packages/sympy/core/basic.py:991\u001b[0m, in \u001b[0;36m<listcomp>\u001b[0;34m(.0)\u001b[0m\n\u001b[1;32m    988\u001b[0m     \u001b[38;5;28;01melse\u001b[39;00m:\n\u001b[1;32m    989\u001b[0m         \u001b[38;5;28;01mreturn\u001b[39;00m sympify(new, strict\u001b[38;5;241m=\u001b[39m\u001b[38;5;28;01mTrue\u001b[39;00m)\n\u001b[0;32m--> 991\u001b[0m sequence \u001b[38;5;241m=\u001b[39m [(\u001b[43msympify_old\u001b[49m\u001b[43m(\u001b[49m\u001b[43ms1\u001b[49m\u001b[43m)\u001b[49m, sympify_new(s2)) \u001b[38;5;28;01mfor\u001b[39;00m s1, s2 \u001b[38;5;129;01min\u001b[39;00m sequence]\n\u001b[1;32m    993\u001b[0m \u001b[38;5;66;03m# skip if there is no change\u001b[39;00m\n\u001b[1;32m    994\u001b[0m sequence \u001b[38;5;241m=\u001b[39m [(s1, s2) \u001b[38;5;28;01mfor\u001b[39;00m s1, s2 \u001b[38;5;129;01min\u001b[39;00m sequence \u001b[38;5;28;01mif\u001b[39;00m \u001b[38;5;129;01mnot\u001b[39;00m _aresame(s1, s2)]\n",
      "File \u001b[0;32m~/miniconda3/envs/space/lib/python3.10/site-packages/sympy/core/basic.py:982\u001b[0m, in \u001b[0;36mBasic.subs.<locals>.sympify_old\u001b[0;34m(old)\u001b[0m\n\u001b[1;32m    980\u001b[0m     \u001b[38;5;28;01mreturn\u001b[39;00m sympify(old, strict\u001b[38;5;241m=\u001b[39m\u001b[38;5;28;01mFalse\u001b[39;00m)\n\u001b[1;32m    981\u001b[0m \u001b[38;5;28;01melse\u001b[39;00m:\n\u001b[0;32m--> 982\u001b[0m     \u001b[38;5;28;01mreturn\u001b[39;00m \u001b[43msympify\u001b[49m\u001b[43m(\u001b[49m\u001b[43mold\u001b[49m\u001b[43m,\u001b[49m\u001b[43m \u001b[49m\u001b[43mstrict\u001b[49m\u001b[38;5;241;43m=\u001b[39;49m\u001b[38;5;28;43;01mTrue\u001b[39;49;00m\u001b[43m)\u001b[49m\n",
      "File \u001b[0;32m~/miniconda3/envs/space/lib/python3.10/site-packages/sympy/core/sympify.py:449\u001b[0m, in \u001b[0;36msympify\u001b[0;34m(a, locals, convert_xor, strict, rational, evaluate)\u001b[0m\n\u001b[1;32m    446\u001b[0m                 \u001b[38;5;28;01mcontinue\u001b[39;00m\n\u001b[1;32m    448\u001b[0m \u001b[38;5;28;01mif\u001b[39;00m strict:\n\u001b[0;32m--> 449\u001b[0m     \u001b[38;5;28;01mraise\u001b[39;00m SympifyError(a)\n\u001b[1;32m    451\u001b[0m \u001b[38;5;28;01mif\u001b[39;00m iterable(a):\n\u001b[1;32m    452\u001b[0m     \u001b[38;5;28;01mtry\u001b[39;00m:\n",
      "\u001b[0;31mSympifyError\u001b[0m: SympifyError: omega_s(t)*G.x + omega_t(t)*G.y + omega_g(t)*G.z"
     ]
    }
   ],
   "source": [
    "H.diff(t, N).express(G).subs(definition2)"
   ]
  },
  {
   "cell_type": "code",
   "execution_count": 101,
   "metadata": {},
   "outputs": [
    {
     "data": {
      "image/png": "[encoded data removed]",
      "text/latex": [
       "$\\displaystyle \\omega_{t}{\\left(t \\right)}\\mathbf{\\hat{g}_x} -  \\omega_{s}{\\left(t \\right)}\\mathbf{\\hat{g}_y}$"
      ],
      "text/plain": [
       "ωₜ(t) g_x + -ωₛ(t) g_y"
      ]
     },
     "execution_count": 101,
     "metadata": {},
     "output_type": "execute_result"
    }
   ],
   "source": [
    "G.z.dt(N).subs(definition)"
   ]
  },
  {
   "cell_type": "code",
   "execution_count": 103,
   "metadata": {},
   "outputs": [
    {
     "ename": "AttributeError",
     "evalue": "'omega_s' object has no attribute 'dt'",
     "output_type": "error",
     "traceback": [
      "\u001b[0;31m---------------------------------------------------------------------------\u001b[0m",
      "\u001b[0;31mAttributeError\u001b[0m                            Traceback (most recent call last)",
      "Cell \u001b[0;32mIn[103], line 1\u001b[0m\n\u001b[0;32m----> 1\u001b[0m \u001b[43momega_s\u001b[49m\u001b[38;5;241;43m.\u001b[39;49m\u001b[43mdt\u001b[49m(N)\n",
      "\u001b[0;31mAttributeError\u001b[0m: 'omega_s' object has no attribute 'dt'"
     ]
    }
   ],
   "source": []
  },
  {
   "cell_type": "code",
   "execution_count": 101,
   "metadata": {},
   "outputs": [],
   "source": [
    "N = ReferenceFrame('N')\n",
    "Y = N.orientnew('Y', 'Axis', [q1, N.z])\n",
    "L = Y.orientnew('L', 'Axis', [q2, Y.x])\n",
    "R = L.orientnew('R', 'Axis', [q3, L.y])\n",
    "w_R_N_qd = R.ang_vel_in(N)\n",
    "R.set_ang_vel(N, u1 * L.x + u2 * L.y + u3 * L.z)"
   ]
  },
  {
   "cell_type": "code",
   "execution_count": 102,
   "metadata": {},
   "outputs": [
    {
     "data": {
      "image/png": "[encoded data removed]",
      "text/latex": [
       "$\\displaystyle u_{1}\\mathbf{\\hat{l}_x} + u_{2}\\mathbf{\\hat{l}_y} + u_{3}\\mathbf{\\hat{l}_z}$"
      ],
      "text/plain": [
       "u₁ l_x + u₂ l_y + u₃ l_z"
      ]
     },
     "execution_count": 102,
     "metadata": {},
     "output_type": "execute_result"
    }
   ],
   "source": [
    "R.ang_vel_in(N)"
   ]
  },
  {
   "cell_type": "code",
   "execution_count": 103,
   "metadata": {},
   "outputs": [
    {
     "data": {
      "image/png": "[encoded data removed]",
      "text/latex": [
       "$\\displaystyle r u_{2}\\mathbf{\\hat{l}_x} -  r u_{1}\\mathbf{\\hat{l}_y}$"
      ],
      "text/plain": [
       "r⋅u₂ l_x + -r⋅u₁ l_y"
      ]
     },
     "execution_count": 103,
     "metadata": {},
     "output_type": "execute_result"
    }
   ],
   "source": [
    "C = Point('C')\n",
    "C.set_vel(N, 0)\n",
    "Dmc = C.locatenew('Dmc', r * L.z)\n",
    "Dmc.v2pt_theory(C, N, R)"
   ]
  },
  {
   "cell_type": "code",
   "execution_count": 104,
   "metadata": {},
   "outputs": [
    {
     "data": {
      "image/png": "[encoded data removed]",
      "text/latex": [
       "$\\displaystyle \\frac{m r^{2}}{4}\\mathbf{\\hat{l}_x}\\otimes \\mathbf{\\hat{l}_x} + \\frac{m r^{2}}{2}\\mathbf{\\hat{l}_y}\\otimes \\mathbf{\\hat{l}_y} + \\frac{m r^{2}}{4}\\mathbf{\\hat{l}_z}\\otimes \\mathbf{\\hat{l}_z}$"
      ],
      "text/plain": [
       "   2\n",
       "m⋅r \n",
       "────\n",
       " 4   l_x⊗l_x +    2\n",
       "m⋅r \n",
       "────\n",
       " 2   l_y⊗l_y +    2\n",
       "m⋅r \n",
       "────\n",
       " 4   l_z⊗l_z"
      ]
     },
     "execution_count": 104,
     "metadata": {},
     "output_type": "execute_result"
    }
   ],
   "source": [
    "I = inertia(L, m / 4 * r**2, m / 2 * r**2, m / 4 * r**2)\n",
    "I"
   ]
  },
  {
   "cell_type": "code",
   "execution_count": 106,
   "metadata": {},
   "outputs": [],
   "source": [
    "kd = [dot(R.ang_vel_in(N) - w_R_N_qd, uv) for uv in L]"
   ]
  },
  {
   "cell_type": "code",
   "execution_count": 109,
   "metadata": {},
   "outputs": [],
   "source": [
    "ForceList = [(Dmc, - m * g * Y.z)]\n",
    "BodyD = RigidBody('BodyD', Dmc, R, m, (I, Dmc))\n",
    "BodyList = [BodyD]"
   ]
  },
  {
   "cell_type": "code",
   "execution_count": 110,
   "metadata": {},
   "outputs": [
    {
     "data": {
      "text/latex": [
       "$\\displaystyle \\left[\\begin{matrix}\\frac{4 g \\sin{\\left(q_{2} \\right)} + 6 r u_{2} u_{3} - r u_{3}^{2} \\tan{\\left(q_{2} \\right)}}{5 r}\\\\- \\frac{2 u_{1} u_{3}}{3}\\\\\\left(- 2 u_{2} + u_{3} \\tan{\\left(q_{2} \\right)}\\right) u_{1}\\end{matrix}\\right]$"
      ],
      "text/plain": [
       "⎡                              2        ⎤\n",
       "⎢4⋅g⋅sin(q₂) + 6⋅r⋅u₂⋅u₃ - r⋅u₃ ⋅tan(q₂)⎥\n",
       "⎢───────────────────────────────────────⎥\n",
       "⎢                  5⋅r                  ⎥\n",
       "⎢                                       ⎥\n",
       "⎢               -2⋅u₁⋅u₃                ⎥\n",
       "⎢               ─────────               ⎥\n",
       "⎢                   3                   ⎥\n",
       "⎢                                       ⎥\n",
       "⎣        (-2⋅u₂ + u₃⋅tan(q₂))⋅u₁        ⎦"
      ]
     },
     "execution_count": 110,
     "metadata": {},
     "output_type": "execute_result"
    }
   ],
   "source": [
    "KM = KanesMethod(N, q_ind=[q1, q2, q3], u_ind=[u1, u2, u3], kd_eqs=kd)\n",
    "(fr, frstar) = KM.kanes_equations(BodyList, ForceList)\n",
    "MM = KM.mass_matrix\n",
    "forcing = KM.forcing\n",
    "rhs = MM.inv() * forcing\n",
    "kdd = KM.kindiffdict()\n",
    "rhs = rhs.subs(kdd)\n",
    "rhs.simplify()\n",
    "rhs"
   ]
  },
  {
   "cell_type": "code",
   "execution_count": 112,
   "metadata": {},
   "outputs": [],
   "source": [
    "t, h0, v0, g, vp, q = symbols('t h_0 v_0 g v_p q', real=True, positive=True)\n"
   ]
  },
  {
   "cell_type": "code",
   "execution_count": 114,
   "metadata": {},
   "outputs": [],
   "source": [
    "ho = h0 - v0*t - sympy.Rational(1,2)*g*t**2\n",
    "dhodt = g*t - v0\n",
    "hp = vp*t + sympy.Rational(1,2)*q*t**2\n",
    "dhpdt = vp + q*t\n"
   ]
  },
  {
   "cell_type": "code",
   "execution_count": 115,
   "metadata": {},
   "outputs": [],
   "source": [
    "eq1 = ho - hp\n",
    "eq2 = dhodt + dhpdt\n"
   ]
  },
  {
   "cell_type": "code",
   "execution_count": 117,
   "metadata": {},
   "outputs": [],
   "source": [
    "t_collide, v_initfall = sympy.solve([eq1,eq2],[t, v0])[0]"
   ]
  },
  {
   "cell_type": "code",
   "execution_count": 118,
   "metadata": {},
   "outputs": [
    {
     "data": {
      "image/png": "[encoded data removed]",
      "text/latex": [
       "$\\displaystyle \\frac{v_{p}}{3} + \\frac{\\sqrt{2} \\sqrt{3 g h_{0} + 3 h_{0} q + 2 v_{p}^{2}}}{3}$"
      ],
      "text/plain": [
       "           _________________________\n",
       "          ╱                       2 \n",
       "vₚ   √2⋅╲╱  3⋅g⋅h₀ + 3⋅h₀⋅q + 2⋅vₚ  \n",
       "── + ───────────────────────────────\n",
       "3                   3               "
      ]
     },
     "execution_count": 118,
     "metadata": {},
     "output_type": "execute_result"
    }
   ],
   "source": [
    "v_initfall"
   ]
  },
  {
   "cell_type": "code",
   "execution_count": 121,
   "metadata": {},
   "outputs": [
    {
     "data": {
      "image/png": "[encoded data removed]",
      "text/latex": [
       "$\\displaystyle \\frac{- g v_{p} - \\frac{q v_{p}}{3} - \\frac{q \\sqrt{6 g h_{0} + 6 h_{0} q + 4 v_{p}^{2}}}{3}}{g + q}$"
      ],
      "text/plain": [
       "                    _________________________\n",
       "                   ╱                       2 \n",
       "        q⋅vₚ   q⋅╲╱  6⋅g⋅h₀ + 6⋅h₀⋅q + 4⋅vₚ  \n",
       "-g⋅vₚ - ──── - ──────────────────────────────\n",
       "         3                   3               \n",
       "─────────────────────────────────────────────\n",
       "                    g + q                    "
      ]
     },
     "execution_count": 121,
     "metadata": {},
     "output_type": "execute_result"
    }
   ],
   "source": [
    "dhodt.subs([(t, t_collide),(v0, v_initfall)]).simplify()"
   ]
  },
  {
   "cell_type": "code",
   "execution_count": null,
   "metadata": {},
   "outputs": [],
   "source": []
  },
  {
   "cell_type": "code",
   "execution_count": null,
   "metadata": {},
   "outputs": [],
   "source": []
  }
 ],
 "metadata": {
  "kernelspec": {
   "display_name": "space",
   "language": "python",
   "name": "python3"
  },
  "language_info": {
   "codemirror_mode": {
    "name": "ipython",
    "version": 3
   },
   "file_extension": ".py",
   "mimetype": "text/x-python",
   "name": "python",
   "nbconvert_exporter": "python",
   "pygments_lexer": "ipython3",
   "version": "3.10.13"
  }
 },
 "nbformat": 4,
 "nbformat_minor": 2
}
