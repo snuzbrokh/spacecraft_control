{
 "cells": [
  {
   "cell_type": "code",
   "execution_count": null,
   "metadata": {},
   "outputs": [],
   "source": [
    "import sympy"
   ]
  },
  {
   "cell_type": "code",
   "execution_count": null,
   "metadata": {},
   "outputs": [],
   "source": []
  },
  {
   "cell_type": "code",
   "execution_count": 1,
   "metadata": {},
   "outputs": [],
   "source": [
    "import numpy as np\n",
    "from scipy.spatial.transform import Rotation as R"
   ]
  },
  {
   "cell_type": "code",
   "execution_count": 2,
   "metadata": {},
   "outputs": [],
   "source": [
    "import numpy as np\n",
    "\n",
    "def rotation_matrix(axis, theta):\n",
    "    \"\"\"\n",
    "    Calculates the principal axis rotations for Euler angles given a set of axes (3, 2, 1) and rotation angles in degrees.\n",
    "\n",
    "    Parameters:\n",
    "        axes (tuple): A tuple specifying the order of rotation axes.\n",
    "        degree (tuple): A tuple of rotation angles in degrees corresponding to the specified axes.\n",
    "\n",
    "    Returns:\n",
    "        np.ndarray: The 3x3 rotation matrix representing the rotation.\n",
    "    \"\"\"\n",
    "    \n",
    "    theta = np.deg2rad(theta)\n",
    "\n",
    "    if axis == '1':\n",
    "        rotation = np.array([[1, 0, 0],\n",
    "                            [0, np.cos(theta), np.sin(theta)],\n",
    "                            [0, -np.sin(theta), np.cos(theta)]])\n",
    "    elif axis == '2':\n",
    "        rotation = np.array([[np.cos(theta), 0, -np.sin(theta)],\n",
    "                                [0, 1, 0],\n",
    "                                [np.sin(theta), 0, np.cos(theta)]])\n",
    "    elif axis == '3':\n",
    "        rotation = np.array([[np.cos(theta), np.sin(theta), 0],\n",
    "                                [-np.sin(theta), np.cos(theta), 0],\n",
    "                                [0, 0, 1]])\n",
    "    else:\n",
    "        raise ValueError(\"Invalid axis specified. Valid axis values are 1, 2, or 3.\")\n",
    "\n",
    "    return rotation\n"
   ]
  },
  {
   "cell_type": "code",
   "execution_count": 3,
   "metadata": {},
   "outputs": [],
   "source": [
    "from functools import reduce\n",
    "\n",
    "def compose_rotation(angles, sequence):\n",
    "    rotations = [rotation_matrix(axis, theta) for (axis, theta) in zip(sequence, angles)]\n",
    "    return reduce(np.matmul, rotations[::-1])\n",
    "    "
   ]
  },
  {
   "cell_type": "code",
   "execution_count": 4,
   "metadata": {},
   "outputs": [],
   "source": [
    "def euler_angles(dcm, sequence):\n",
    "    angles = []\n",
    "    if sequence == '321':\n",
    "        psi = np.arctan(dcm[0][1] / dcm[0][0])\n",
    "        theta = -np.arcsin(dcm[0][2])\n",
    "        phi = np.arctan(dcm[1][2] / dcm[2][2])\n",
    "        return [psi, theta, phi]\n",
    "        \n",
    "    if sequence == '313':\n",
    "        psi = np.arctan(dcm[2][0] / -dcm[2][1])\n",
    "        theta = np.arccos(dcm[2][2])\n",
    "        phi = np.arctan(dcm[0][2] / dcm[1][2])\n",
    "        return [psi, theta, phi]\n",
    "    \n",
    "def get_prv(dcm):\n",
    "    \n",
    "    phi = np.arccos(0.5*(np.trace(dcm)-1))\n",
    "    e = np.array([dcm[1][2] - dcm[2][1], dcm[2][0] - dcm[0][2], dcm[0][1] - dcm[1][0]])/(2*np.sin(phi))\n",
    "    \n",
    "    return phi, e\n",
    "        \n",
    "\n",
    "    \n",
    "    "
   ]
  },
  {
   "cell_type": "code",
   "execution_count": 5,
   "metadata": {},
   "outputs": [
    {
     "name": "stdout",
     "output_type": "stream",
     "text": [
      "[[ 0.92541658  0.33682409 -0.17364818]\n",
      " [-0.36515929  0.91510341 -0.17101007]\n",
      " [ 0.10130573  0.2216648   0.96984631]]\n",
      "(0.43898588626075874, array([-0.46194682,  0.32345865,  0.82582058]))\n",
      "[-24.561, 14.106, 45.439]\n",
      "[-0.4287  0.2462  0.7931]\n",
      "[ 20.00146269 -10.00059873   9.99965301]\n"
     ]
    }
   ],
   "source": [
    "bn = compose_rotation([20,10,-10],'321')\n",
    "print(bn)\n",
    "\n",
    "print(get_prv(bn))\n",
    "\n",
    "print(list(map(lambda x: np.round(np.rad2deg(x),3), euler_angles(bn, '313'))))\n",
    "print(np.round(euler_angles(bn,'313'),4))\n",
    "\n",
    "# check\n",
    "\n",
    "bn = compose_rotation(np.rad2deg([-0.4287,  0.2462,  0.7931]), '313')\n",
    "print(np.rad2deg(euler_angles(bn, '321')))"
   ]
  },
  {
   "cell_type": "code",
   "execution_count": 6,
   "metadata": {},
   "outputs": [
    {
     "name": "stdout",
     "output_type": "stream",
     "text": [
      "(3.141592653589793, array([0., 0., 0.]))\n",
      "[[ 1  0  0]\n",
      " [ 0 -1  0]\n",
      " [ 0  0 -1]]\n"
     ]
    }
   ],
   "source": [
    "bn = np.array(\n",
    "    [[1,0,0],\n",
    "    [0,0,1],\n",
    "    [0,-1,0]]\n",
    ")\n",
    "result = bn @ bn\n",
    "print(get_prv(result))\n",
    "print(result)"
   ]
  },
  {
   "cell_type": "code",
   "execution_count": 7,
   "metadata": {},
   "outputs": [
    {
     "name": "stdout",
     "output_type": "stream",
     "text": [
      "[[ 0.92541658  0.16317591 -0.34202014]\n",
      " [ 0.01802831  0.88256412  0.46984631]\n",
      " [ 0.37852231 -0.44096961  0.81379768]]\n",
      "[0.92541658 0.01802831 0.37852231]\n"
     ]
    }
   ],
   "source": [
    "bn = compose_rotation([10,20,30], '321')\n",
    "rn = compose_rotation([-5,5,5],'321')\n",
    "omega = np.array([1,0,0])\n",
    "br = bn @ omega\n",
    "print(bn)\n",
    "print(br)\n",
    "\n",
    "\n",
    "# print(list(map(lambda x: np.round(np.rad2deg(x),3), euler_angles(br, '321'))))"
   ]
  },
  {
   "cell_type": "code",
   "execution_count": 8,
   "metadata": {},
   "outputs": [
    {
     "data": {
      "text/plain": [
       "array([0.00000000e+00, 1.00047630e-02, 2.00095261e-02, ...,\n",
       "       4.19899905e+01, 4.19999952e+01, 4.20100000e+01])"
      ]
     },
     "execution_count": 8,
     "metadata": {},
     "output_type": "execute_result"
    }
   ],
   "source": [
    "t0, tf = 0, 42\n",
    "step = 0.01\n",
    "length = int(round(tf-t0)/step)\n",
    "time = np.linspace(t0, tf+step, length)\n",
    "\n",
    "time"
   ]
  },
  {
   "cell_type": "code",
   "execution_count": 9,
   "metadata": {},
   "outputs": [
    {
     "name": "stdout",
     "output_type": "stream",
     "text": [
      "[2.40022067 0.97077517 5.54790455]\n",
      "6.12231236011601\n"
     ]
    }
   ],
   "source": [
    "bn = compose_rotation([40,30,80],'321')\n",
    "t0, tf = 0, 42\n",
    "step = 0.01\n",
    "length = int(round(tf-t0)/step)\n",
    "time = np.linspace(t0, tf+step, length)\n",
    "\n",
    "\n",
    "def get_body_ypr(t2, t3):\n",
    "\n",
    "    return np.array(\n",
    "        [[0, np.sin(t3), np.cos(t3)],\n",
    "        [0, np.cos(t2)*np.cos(t3), -np.cos(t2)*np.sin(t3)],\n",
    "        [np.cos(t2), np.sin(t2)*np.sin(t3), np.sin(t2)*np.cos(t3)]]\n",
    "    )/np.cos(t2)\n",
    "\n",
    "results = []\n",
    "angles = np.deg2rad([40,30,80])\n",
    "omega_angle = np.deg2rad(20)\n",
    "\n",
    "for t in time:\n",
    "    omega = np.array([np.sin(0.1*t), 0.01, np.cos(0.1*t)]) * omega_angle\n",
    "    body_ypr = get_body_ypr(angles[1], angles[2])\n",
    "    euler_rate = body_ypr @ omega\n",
    "    angles += step * euler_rate\n",
    "    \n",
    "print(angles)\n",
    "print(np.linalg.norm(angles))"
   ]
  },
  {
   "cell_type": "code",
   "execution_count": 10,
   "metadata": {},
   "outputs": [],
   "source": [
    "phi = np.arccos(0.5*(0.925417 -0.521181-0.492404-1))\n",
    "e = np.array([0.852869+0.784102, 0.377786-0.173648, 0.336824-0.0296956])/(2*np.sin(phi))"
   ]
  },
  {
   "cell_type": "code",
   "execution_count": 86,
   "metadata": {},
   "outputs": [],
   "source": [
    "from sympy.interactive.printing import init_printing\n",
    "init_printing(use_unicode=False, wrap_line=False)\n",
    "from sympy.matrices import Matrix, zeros, ones, diag, GramSchmidt\n",
    "from sympy import cos, sin, gcd, Symbol\n",
    "\n"
   ]
  },
  {
   "cell_type": "code",
   "execution_count": 87,
   "metadata": {},
   "outputs": [
    {
     "data": {
      "text/latex": [
       "$\\displaystyle \\left[\\begin{matrix}- \\sin^{2}{\\left(\\phi \\right)} \\cos{\\left(\\theta \\right)} + \\cos^{2}{\\left(\\phi \\right)} & \\sin{\\left(\\phi \\right)} \\cos{\\left(\\phi \\right)} \\cos{\\left(\\theta \\right)} + \\sin{\\left(\\phi \\right)} \\cos{\\left(\\phi \\right)} & \\sin{\\left(\\phi \\right)} \\sin{\\left(\\theta \\right)}\\\\- \\sin{\\left(\\phi \\right)} \\cos{\\left(\\phi \\right)} \\cos{\\left(\\theta \\right)} - \\sin{\\left(\\phi \\right)} \\cos{\\left(\\phi \\right)} & - \\sin^{2}{\\left(\\phi \\right)} + \\cos^{2}{\\left(\\phi \\right)} \\cos{\\left(\\theta \\right)} & \\sin{\\left(\\theta \\right)} \\cos{\\left(\\phi \\right)}\\\\\\sin{\\left(\\phi \\right)} \\sin{\\left(\\theta \\right)} & - \\sin{\\left(\\theta \\right)} \\cos{\\left(\\phi \\right)} & \\cos{\\left(\\theta \\right)}\\end{matrix}\\right]$"
      ],
      "text/plain": [
       "[            2                      2                                                                                    ]\n",
       "[       - sin (phi)*cos(theta) + cos (phi)          sin(phi)*cos(phi)*cos(theta) + sin(phi)*cos(phi)  sin(phi)*sin(theta)]\n",
       "[                                                                                                                        ]\n",
       "[                                                               2           2                                            ]\n",
       "[-sin(phi)*cos(phi)*cos(theta) - sin(phi)*cos(phi)         - sin (phi) + cos (phi)*cos(theta)         sin(theta)*cos(phi)]\n",
       "[                                                                                                                        ]\n",
       "[               sin(phi)*sin(theta)                               -sin(theta)*cos(phi)                    cos(theta)     ]"
      ]
     },
     "execution_count": 87,
     "metadata": {},
     "output_type": "execute_result"
    }
   ],
   "source": [
    "theta = Symbol('theta')\n",
    "phi = Symbol('phi')\n",
    "\n",
    "m3 = Matrix((\n",
    "    [cos(phi), sin(phi), 0],\n",
    "    [-sin(phi), cos(phi), 0],\n",
    "    [0,0,1]\n",
    "))\n",
    "\n",
    "\n",
    "m1 = Matrix((\n",
    "    [1,0,0],\n",
    "    [0, cos(theta), sin(theta)],\n",
    "    [0, -sin(theta), cos(theta)]\n",
    "))\n",
    "\n",
    "flip = Matrix((\n",
    "    [0,1,0],\n",
    "    [1,0,0],\n",
    "    [0,0,1]\n",
    "))\n",
    "\n",
    "m3@m1@m3\n"
   ]
  },
  {
   "cell_type": "code",
   "execution_count": 117,
   "metadata": {},
   "outputs": [
    {
     "data": {
      "text/latex": [
       "$\\displaystyle \\left[\\begin{matrix}I_{G_s} + I_{W_s} & 0 & 0\\\\0 & I_{G_t} + I_{W_t} & 0\\\\0 & 0 & I_{G_g} + I_{W_t}\\end{matrix}\\right]$"
      ],
      "text/plain": [
       "[I_{G_s} + I_{W_s}          0                  0        ]\n",
       "[                                                       ]\n",
       "[        0          I_{G_t} + I_{W_t}          0        ]\n",
       "[                                                       ]\n",
       "[        0                  0          I_{G_g} + I_{W_t}]"
      ]
     },
     "execution_count": 117,
     "metadata": {},
     "output_type": "execute_result"
    }
   ],
   "source": [
    "# defines body rotation rates\n",
    "\n",
    "Omega = Symbol(\"Omega\")\n",
    "gamma = Symbol(\"gamma\")\n",
    "\n",
    "omega_s = Symbol(\"omega_s\")\n",
    "omega_t = Symbol(\"omega_t\")\n",
    "omega_g = Symbol(\"omega_g\")\n",
    "\n",
    "N = CoordSys3D('N')\n",
    "B = CoordSys3D('B')\n",
    "G = CoordSys3D('G', vector_names=[\"s\",\"t\",\"g\"])\n",
    "W = CoordSys3D('W')\n",
    "omega = omega_s * G.s + omega_t * G.t + omega_g * G.g\n",
    "\n",
    "\n",
    "# Define Moment of Inertias\n",
    "I_Gs = Symbol(\"I_{G_s}\")\n",
    "I_Gt = Symbol(\"I_{G_t}\")\n",
    "I_Gg = Symbol(\"I_{G_g}\")\n",
    "\n",
    "I_gimbal = Matrix(\n",
    "    [[I_Gs,0,0],\n",
    "    [0,I_Gt,0],\n",
    "    [0,0,I_Gg]])\n",
    "\n",
    "I_Ws = Symbol(\"I_{W_s}\")\n",
    "I_Wt = Symbol(\"I_{W_t}\")\n",
    "\n",
    "I_wheel = Matrix(\n",
    "    [[I_Ws,0,0],\n",
    "    [0,I_Wt,0],\n",
    "    [0,0,I_Wt]])\n",
    "\n",
    "\n",
    "\n",
    "\n",
    "H_wheel = I_Ws * (omega_s + )\n",
    "\n",
    "I_gimbal + I_wheel\n"
   ]
  },
  {
   "cell_type": "code",
   "execution_count": 114,
   "metadata": {},
   "outputs": [
    {
     "data": {
      "image/png": "[encoded data removed]",
      "text/latex": [
       "$\\displaystyle \\left(\\omega_{g}\\right)\\mathbf{\\hat{g}_{g}} + \\left(\\omega_{s}\\right)\\mathbf{\\hat{s}_{g}} + \\left(\\omega_{t}\\right)\\mathbf{\\hat{t}_{g}}$"
      ]
     },
     "execution_count": 114,
     "metadata": {},
     "output_type": "execute_result"
    }
   ],
   "source": [
    "omega"
   ]
  },
  {
   "cell_type": "code",
   "execution_count": 90,
   "metadata": {},
   "outputs": [
    {
     "data": {
      "image/png": "[encoded data removed]",
      "text/latex": [
       "$\\displaystyle I_{G_s} + \\omega$"
      ],
      "text/plain": [
       "I_{G_s} + omega"
      ]
     },
     "execution_count": 90,
     "metadata": {},
     "output_type": "execute_result"
    }
   ],
   "source": [
    "I_Gs = Symbol(\"I_{G_s}\")\n",
    "omega = Symbol(\"omega\")\n",
    "\n",
    "\n",
    "\n",
    "I_Gs + omega"
   ]
  },
  {
   "cell_type": "code",
   "execution_count": 19,
   "metadata": {},
   "outputs": [],
   "source": [
    "r1 = R.from_euler('x', 60, degrees=True)\n",
    "r2 = R.from_euler('y', -45, degrees=True)\n",
    "r3 = R.from_euler('z', 30, degrees=True)\n",
    "\n"
   ]
  },
  {
   "cell_type": "code",
   "execution_count": 31,
   "metadata": {},
   "outputs": [
    {
     "data": {
      "text/plain": [
       "array([[ 0.61237244, -0.35355339, -0.70710678],\n",
       "       [-0.28033009,  0.73919892, -0.61237244],\n",
       "       [ 0.73919892,  0.5732233 ,  0.35355339]])"
      ]
     },
     "execution_count": 31,
     "metadata": {},
     "output_type": "execute_result"
    }
   ],
   "source": [
    "rotation = r1 * r2 * r3\n",
    "rotation.as_matrix()"
   ]
  },
  {
   "cell_type": "code",
   "execution_count": 29,
   "metadata": {},
   "outputs": [
    {
     "data": {
      "text/plain": [
       "array([ 30., -45.,  60.])"
      ]
     },
     "execution_count": 29,
     "metadata": {},
     "output_type": "execute_result"
    }
   ],
   "source": [
    "rotation.as_euler('zyx', degrees=True)"
   ]
  },
  {
   "cell_type": "code",
   "execution_count": 14,
   "metadata": {},
   "outputs": [],
   "source": [
    "def tilde(x):\n",
    "    return np.array([\n",
    "        [0, -x[2], x[1]],\n",
    "        [x[2], 0, -x[0]],\n",
    "        [-x[1], x[0], 0]\n",
    "    ])"
   ]
  },
  {
   "cell_type": "code",
   "execution_count": 17,
   "metadata": {},
   "outputs": [
    {
     "data": {
      "text/plain": [
       "array([[ 0,  0,  0],\n",
       "       [ 0, -4,  0],\n",
       "       [ 0,  0, -4]])"
      ]
     },
     "execution_count": 17,
     "metadata": {},
     "output_type": "execute_result"
    }
   ],
   "source": [
    "r = np.array([2,0,0])\n",
    "\n",
    "tilde(r) @ tilde(r)"
   ]
  },
  {
   "cell_type": "code",
   "execution_count": 18,
   "metadata": {},
   "outputs": [
    {
     "data": {
      "image/png": "[encoded data removed]",
      "text/latex": [
       "$\\displaystyle 2$"
      ],
      "text/plain": [
       "2"
      ]
     },
     "execution_count": 18,
     "metadata": {},
     "output_type": "execute_result"
    }
   ],
   "source": [
    "2"
   ]
  },
  {
   "cell_type": "code",
   "execution_count": 19,
   "metadata": {},
   "outputs": [],
   "source": [
    "a = np.array([1,2,3])\n",
    "b = np.array([2,0.2,1])\n",
    "c = np.array([-1, 4, -2])\n",
    "d = np.array([-2,2,1])\n",
    "\n"
   ]
  },
  {
   "cell_type": "code",
   "execution_count": 21,
   "metadata": {},
   "outputs": [],
   "source": [
    "ans  = np.dot(\n",
    "    np.cross(a,b), np.cross(c,d))\n",
    "\n",
    "ans2 = np.dot(a,d) * np.dot(b,c) - np.dot(a,c) * np.dot(b,d)"
   ]
  },
  {
   "cell_type": "code",
   "execution_count": 18,
   "metadata": {},
   "outputs": [],
   "source": [
    "norm = np.linalg.norm\n",
    "def mrp_sum(g1, g2):\n",
    "    \n",
    "    norm1 = norm(g1)\n",
    "    norm2 = norm(g2)\n",
    "    \n",
    "    g_sum = ((1-norm1**2)*g2 +(1-norm2**2)*g1 - 2*np.cross(g1, g2)) / (1 + norm1**2 * norm2**2 - 2 * np.dot(g1, g2))\n",
    "    return g_sum\n",
    "\n",
    "\n",
    "def mrp_to_dcm(mrp):\n",
    "    \n",
    "    identity = np.identity(3)\n",
    "    mrp_cross_matrix = tilde(mrp)\n",
    "    norm_mrp = norm(mrp)\n",
    "    dcm = identity + (8 * mrp_cross_matrix @ mrp_cross_matrix - 4 * (1 - norm_mrp ** 2) * mrp_cross_matrix) / \\\n",
    "                     ((1 + norm_mrp ** 2) ** 2)\n",
    "    return dcm\n",
    "\n",
    "def b_matrix_mrp(mrp):\n",
    "    return (1-norm(mrp)**2)*np.identity(3) + 2*tilde(mrp) + 2 * np.outer(mrp, mrp)\n",
    "\n",
    "def tilde(x):\n",
    "    return np.array([\n",
    "        [0, -x[2], x[1]],\n",
    "        [x[2], 0, -x[0]],\n",
    "        [-x[1], x[0], 0]])\n",
    "\n",
    "def mrp_subtract(mrp1, mrp2):\n",
    "    \n",
    "    norm1 = norm(mrp1)\n",
    "    norm2 = norm(mrp2)\n",
    "    \n",
    "    num = (1 - norm2**2)*norm1 - (1-norm1**2)*norm2 + 2*np.cross(mrp1, mrp2)\n",
    "    denom = 1 + (norm1*norm2)**2 + 2*np.dot(mrp1, mrp2)\n",
    "    \n",
    "    result = num/denom\n",
    "    result_norm = norm(result)\n",
    "    if result_norm >= 1:\n",
    "        result = -result/result_norm**2\n",
    "        \n",
    "    return result\n",
    "    \n",
    "    \n",
    "def dcm2euler_param(dcm):\n",
    "    \n",
    "    trace = np.trace(dcm)\n",
    "    b02 = 0.25 * (1 + trace)\n",
    "    b12 = 0.25 * (1 + 2*dcm[0][0] - trace)\n",
    "    b22 = 0.25 * (1 + 2*dcm[1][1] - trace)\n",
    "    b32 = 0.25 * (1 + 2*dcm[2][2] - trace)\n",
    "    \n",
    "    if b02 == max(b02, b12, b22, b32):\n",
    "        b0 = np.sqrt(b02)\n",
    "        b1 = (dcm[1][2]-dcm[2][1]) / (4 * b0)\n",
    "        b2 = (dcm[2][0]-dcm[0][2]) / (4 * b0)\n",
    "        b3 = (dcm[0][1]-dcm[1][2]) / (4 * b0)\n",
    "        return np.array([b0, b1, b2, b3])\n",
    "    \n",
    "    if b12 == max(b02, b12, b22, b32):\n",
    "        b1 = np.sqrt(b12)\n",
    "        b0 = (dcm[1][2]-dcm[2][1]) / (4 * b1)\n",
    "        b2 = (dcm[0][1]+dcm[1][0]) / (4 * b1)\n",
    "        b3 = (dcm[2][0]+dcm[0][2]) / (4 * b1)\n",
    "        return np.array([b0, b1, b2, b3])\n",
    "    \n",
    "    if b22 == max(b02, b12, b22, b32):\n",
    "        b2 = np.sqrt(b22)\n",
    "        b1 = (dcm[0][1]+dcm[1][0]) / (4 * b2)\n",
    "        b0 = (dcm[2][0]-dcm[0][2]) / (4 * b2)\n",
    "        b3 = (dcm[1][2]+dcm[2][1]) / (4 * b2)\n",
    "        return np.array([b0, b1, b2, b3])\n",
    "    else:\n",
    "        b3 = np.sqrt(b32)\n",
    "        b1 = (dcm[2][0]+dcm[0][2]) / (4 * b3)\n",
    "        b2 = (dcm[1][2]+dcm[2][1]) / (4 * b3)\n",
    "        b0 = (dcm[0][1]-dcm[1][2]) / (4 * b3)\n",
    "        return np.array([b0, b1, b2, b3])\n",
    "\n",
    "def dcm2mrp(dcm):\n",
    "    if np.isclose(np.trace(dcm), -1.0):\n",
    "        quat = dcm2euler_param(dcm)\n",
    "        sigma = quat[1:] / (1 + quat[0])\n",
    "        return sigma\n",
    "    trace_term = (np.trace(dcm) + 1)**0.5\n",
    "    denom = (trace_term*(trace_term+2))\n",
    "    num = np.array([\n",
    "        dcm[1][2] - dcm[2][1],\n",
    "        dcm[2][0] - dcm[0][2],\n",
    "        dcm[0][1] - dcm[1][0]\n",
    "    ])\n",
    "    return num/denom"
   ]
  },
  {
   "cell_type": "code",
   "execution_count": 43,
   "metadata": {},
   "outputs": [],
   "source": [
    "\n",
    "def sigma_rn(t):\n",
    "    f = 0.03\n",
    "    return np.array([\n",
    "        0.1 * np.sin(f*t), 0.2 * np.cos(f*t), -0.3 * np.sin(2*f*t)\n",
    "    ])\n",
    "    \n",
    "def sigma_rn_dot(t):\n",
    "    f = 0.03\n",
    "    return f * np.array([\n",
    "        0.1 * np.cos(f*t), 0.2 * np.sin(f*t), -0.6 * np.cos(2*f*t)])\n",
    "\n",
    "\n",
    "def omega_rn_func(t):\n",
    "    mrp_rn = sigma_rn(t)\n",
    "    mrp_rn_norm = norm(mrp_rn)\n",
    "    # print(mrp_rn)\n",
    "    b_matrix_rn = b_matrix_mrp(mrp_rn)\n",
    "    b_matrix_rn_inv = b_matrix_rn.T / (1 + mrp_rn_norm**2)\n",
    "    omega_rn = 4 * b_matrix_rn_inv @ sigma_rn_dot(t)\n",
    "    return omega_rn\n",
    "\n",
    "def omega_rn_dot_func(t, dt):\n",
    "    \n",
    "    omega_rn_1 = omega_rn_func(t)\n",
    "    omega_rn_2 = omega_rn_func(t + dt)\n",
    "    omega_rn_dot = (omega_rn_2 - omega_rn_1) / dt\n",
    "    return omega_rn_dot"
   ]
  },
  {
   "cell_type": "code",
   "execution_count": 44,
   "metadata": {},
   "outputs": [
    {
     "data": {
      "text/plain": [
       "array([ 0.03876923,  0.        , -0.06184615])"
      ]
     },
     "execution_count": 44,
     "metadata": {},
     "output_type": "execute_result"
    }
   ],
   "source": [
    "omega_rn_func(0.0)"
   ]
  },
  {
   "cell_type": "markdown",
   "metadata": {},
   "source": [
    "## Control Law"
   ]
  },
  {
   "cell_type": "code",
   "execution_count": 45,
   "metadata": {},
   "outputs": [],
   "source": [
    "def stabilizing_control(mrp_br, omega_bn, omega_rn, omega_dot_rn, inertia_matrix):\n",
    "    K = 5\n",
    "    P = 10\n",
    "    omega_br = omega_bn - omega_rn\n",
    "    omega_cross = tilde(omega_bn)\n",
    "    return -K * mrp_br - P*omega_br + inertia_matrix @ (omega_dot_rn - omega_cross @ omega_rn)\\\n",
    "        + omega_cross @ inertia_matrix @ omega_bn"
   ]
  },
  {
   "cell_type": "code",
   "execution_count": 81,
   "metadata": {},
   "outputs": [],
   "source": [
    "def rigid_body_dynamics(x, u, t, inertia_matrix, external_torque):\n",
    "    # Principal moments of inertia\n",
    "    i_1, i_2, i_3 = np.diag(inertia_matrix)\n",
    "    mrp_bn, omega_bn = x[:3], x[3:]\n",
    "        \n",
    "    mrp_bn_dot = 0.25 * b_matrix_mrp(mrp_bn) @ omega_bn\n",
    "    omega_1_bn_dot = (i_2 - i_3) / i_1 * omega_bn[2] * omega_bn[1] + (u[0] + external_torque[0]) / i_1\n",
    "    omega_2_bn_dot = (i_3 - i_1) / i_2 * omega_bn[0] * omega_bn[2] + (u[1] + external_torque[1]) / i_2\n",
    "    omega_3_bn_dot = (i_1 - i_2) / i_3 * omega_bn[1] * omega_bn[0] + (u[2] + external_torque[2]) / i_3\n",
    "    omega_bn_dot = np.array([omega_1_bn_dot, omega_2_bn_dot, omega_3_bn_dot])\n",
    "    \n",
    "    x_dot = np.insert(mrp_bn_dot, 3, omega_bn_dot, axis=0)\n",
    "    return x_dot\n",
    "\n",
    "def runge_kutta45(f, t, control, initial_state, **kwargs):\n",
    "    \n",
    "    X = np.zeros((6, len(t)))\n",
    "    X[:,0] = initial_state\n",
    "    \n",
    "    relative_attitude = np.zeros((3, len(t)))\n",
    "\n",
    "    u = np.zeros((3, len(t)))\n",
    "    \n",
    "    for i in range(0, len(t)-1):\n",
    "        h = t[i+1] - t[i]\n",
    "        x = X[:, i]\n",
    "    \n",
    "        # Calculate reference state\n",
    "        mrp_rn = sigma_rn(t[i])\n",
    "        omega_rn = omega_rn_func(t[i])\n",
    "        omega_rn_dot = omega_rn_dot_func(t[i], h)\n",
    "        \n",
    "        # system state\n",
    "        mrp_bn, omega_bn = x[:3], x[3:]\n",
    "        \n",
    "        # calculate relative state\n",
    "        mrp_br = mrp_subtract(mrp_bn, mrp_rn)\n",
    "        mrp_br_norm = norm(mrp_br)\n",
    "        if mrp_br_norm > 1:\n",
    "            mrp_br = -mrp_br / (mrp_br_norm**2)\n",
    "            \n",
    "        relative_attitude[:, i] = mrp_br\n",
    "        \n",
    "        # Convert all reference vectors to body frame components\n",
    "        dcm_br = mrp_to_dcm(mrp_br)\n",
    "        omega_rn_bframe = dcm_br @ omega_rn \n",
    "        omega_rn_dot_bframe = dcm_br @ omega_rn_dot\n",
    "    \n",
    "        ui = control(mrp_br, omega_bn, omega_rn_bframe, omega_rn_dot_bframe, inertia_matrix)\n",
    "        \n",
    "        k1 = h * f(x, ui, t[i], **kwargs)\n",
    "        k2 = h * f(x + k1/2, ui, t[i] + h/2, **kwargs)\n",
    "        k3 = h * f(x + k2/2, ui, t[i] + h/2, **kwargs)\n",
    "        k4 = h * f(x + k3, ui, t[i] + h, **kwargs)\n",
    "        \n",
    "        new_state = X[:,i] + 1/6*(k1 + 2*k2 + 2*k3 + k4)\n",
    "        new_mrp = new_state[:3]\n",
    "        if norm(new_mrp) >= 1:\n",
    "            new_state[:3] = -new_mrp / norm(new_mrp)**2\n",
    "            \n",
    "        X[:, i+1] = new_state\n",
    "        u[:,i] = ui\n",
    "        \n",
    "    return X, u, relative_attitude\n",
    "\n",
    "# Initial Conditions\n",
    "omega_bn_0 = np.deg2rad([30,10,-20])\n",
    "sigma_bn_0 = np.array([0.1,0.2,-0.1])\n",
    "\n",
    "initial_state = np.insert(sigma_bn_0, 3, omega_bn_0, axis=0)\n",
    "inertia_matrix = np.diag(np.array([100,75,80]))\n",
    "external_torque = np.array([0,0,0])\n",
    "\n",
    "# Time interval\n",
    "h = 0.1\n",
    "t0 = 0\n",
    "tf = 100\n",
    "t = np.linspace(t0, tf, int(tf/h)+1)\n",
    "\n",
    "\n",
    "X, u, sigma_br = runge_kutta45(rigid_body_dynamics, t, stabilizing_control, initial_state,\n",
    "                    inertia_matrix=inertia_matrix,\n",
    "                    external_torque = external_torque)"
   ]
  },
  {
   "cell_type": "markdown",
   "metadata": {},
   "source": [
    "## Single VSCMG Device Simulation"
   ]
  },
  {
   "cell_type": "code",
   "execution_count": null,
   "metadata": {},
   "outputs": [],
   "source": [
    "def rigid_body_dynamics(x, u, t, inertia_matrix, external_torque):\n",
    "    # Principal moments of inertia\n",
    "    i_1, i_2, i_3 = np.diag(inertia_matrix)\n",
    "    mrp_bn, omega_bn = x[:3], x[3:]\n",
    "        \n",
    "    mrp_bn_dot = 0.25 * b_matrix_mrp(mrp_bn) @ omega_bn\n",
    "    omega_1_bn_dot = (i_2 - i_3) / i_1 * omega_bn[2] * omega_bn[1] + (u[0] + external_torque[0]) / i_1\n",
    "    omega_2_bn_dot = (i_3 - i_1) / i_2 * omega_bn[0] * omega_bn[2] + (u[1] + external_torque[1]) / i_2\n",
    "    omega_3_bn_dot = (i_1 - i_2) / i_3 * omega_bn[1] * omega_bn[0] + (u[2] + external_torque[2]) / i_3\n",
    "    omega_bn_dot = np.array([omega_1_bn_dot, omega_2_bn_dot, omega_3_bn_dot])\n",
    "    \n",
    "    x_dot = np.insert(mrp_bn_dot, 3, omega_bn_dot, axis=0)\n",
    "    return x_dot\n",
    "\n",
    "def runge_kutta45(f, t, control, initial_state, **kwargs):\n",
    "    \n",
    "    X = np.zeros((6, len(t)))\n",
    "    X[:,0] = initial_state\n",
    "    \n",
    "    relative_attitude = np.zeros((3, len(t)))\n",
    "\n",
    "    u = np.zeros((3, len(t)))\n",
    "    \n",
    "    for i in range(0, len(t)-1):\n",
    "        h = t[i+1] - t[i]\n",
    "        x = X[:, i]\n",
    "    \n",
    "        # Calculate reference state\n",
    "        mrp_rn = sigma_rn(t[i])\n",
    "        omega_rn = omega_rn_func(t[i])\n",
    "        omega_rn_dot = omega_rn_dot_func(t[i], h)\n",
    "        \n",
    "        # system state\n",
    "        mrp_bn, omega_bn = x[:3], x[3:]\n",
    "        \n",
    "        # calculate relative state\n",
    "        mrp_br = mrp_subtract(mrp_bn, mrp_rn)\n",
    "        mrp_br_norm = norm(mrp_br)\n",
    "        if mrp_br_norm > 1:\n",
    "            mrp_br = -mrp_br / (mrp_br_norm**2)\n",
    "            \n",
    "        relative_attitude[:, i] = mrp_br\n",
    "        \n",
    "        # Convert all reference vectors to body frame components\n",
    "        dcm_br = mrp_to_dcm(mrp_br)\n",
    "        omega_rn_bframe = dcm_br @ omega_rn \n",
    "        omega_rn_dot_bframe = dcm_br @ omega_rn_dot\n",
    "    \n",
    "        ui = control(mrp_br, omega_bn, omega_rn_bframe, omega_rn_dot_bframe, inertia_matrix)\n",
    "        \n",
    "        k1 = h * f(x, ui, t[i], **kwargs)\n",
    "        k2 = h * f(x + k1/2, ui, t[i] + h/2, **kwargs)\n",
    "        k3 = h * f(x + k2/2, ui, t[i] + h/2, **kwargs)\n",
    "        k4 = h * f(x + k3, ui, t[i] + h, **kwargs)\n",
    "        \n",
    "        new_state = X[:,i] + 1/6*(k1 + 2*k2 + 2*k3 + k4)\n",
    "        new_mrp = new_state[:3]\n",
    "        if norm(new_mrp) >= 1:\n",
    "            new_state[:3] = -new_mrp / norm(new_mrp)**2\n",
    "            \n",
    "        X[:, i+1] = new_state\n",
    "        u[:,i] = ui\n",
    "        \n",
    "    return X, u, relative_attitude\n",
    "\n",
    "# Initial Conditions\n",
    "omega_bn_0 = np.deg2rad([30,10,-20])\n",
    "sigma_bn_0 = np.array([0.1,0.2,-0.1])\n",
    "\n",
    "initial_state = np.insert(sigma_bn_0, 3, omega_bn_0, axis=0)\n",
    "inertia_matrix = np.diag(np.array([100,75,80]))\n",
    "external_torque = np.array([0,0,0])\n",
    "\n",
    "# Time interval\n",
    "h = 0.1\n",
    "t0 = 0\n",
    "tf = 100\n",
    "t = np.linspace(t0, tf, int(tf/h)+1)\n",
    "\n",
    "\n",
    "X, u, sigma_br = runge_kutta45(rigid_body_dynamics, t, stabilizing_control, initial_state,\n",
    "                    inertia_matrix=inertia_matrix,\n",
    "                    external_torque = external_torque)"
   ]
  },
  {
   "cell_type": "code",
   "execution_count": 82,
   "metadata": {},
   "outputs": [],
   "source": [
    "import matplotlib.pyplot as plt"
   ]
  },
  {
   "cell_type": "code",
   "execution_count": 85,
   "metadata": {},
   "outputs": [
    {
     "data": {
      "text/plain": [
       "<matplotlib.legend.Legend at 0x120075900>"
      ]
     },
     "execution_count": 85,
     "metadata": {},
     "output_type": "execute_result"
    },
    {
     "data": {
      "image/png": "[encoded data removed]",
      "text/plain": [
       "<Figure size 640x480 with 1 Axes>"
      ]
     },
     "metadata": {},
     "output_type": "display_data"
    }
   ],
   "source": [
    "plt.plot(t, X[0, :], label='sigma x')\n",
    "plt.plot(t, X[1, :], label='sigma y')\n",
    "plt.plot(t, X[2, :], label='sigma z')\n",
    "plt.legend()"
   ]
  },
  {
   "cell_type": "code",
   "execution_count": 83,
   "metadata": {},
   "outputs": [
    {
     "data": {
      "text/plain": [
       "<matplotlib.legend.Legend at 0x11ffae200>"
      ]
     },
     "execution_count": 83,
     "metadata": {},
     "output_type": "execute_result"
    },
    {
     "data": {
      "image/png": "[encoded data removed]",
      "text/plain": [
       "<Figure size 640x480 with 1 Axes>"
      ]
     },
     "metadata": {},
     "output_type": "display_data"
    }
   ],
   "source": [
    "plt.plot(t, norm(sigma_br, axis=0), '.')\n",
    "plt.plot(t, norm(X[3:,:], axis=0), label='Angular Velocity Magnitude')\n",
    "plt.plot(t, norm(X[:3,:], axis=0), label='Body MRP Magnitude')\n",
    "plt.legend()"
   ]
  },
  {
   "cell_type": "code",
   "execution_count": 69,
   "metadata": {},
   "outputs": [
    {
     "data": {
      "text/plain": [
       "array([-0.12578455, -0.06868286, -0.07534889])"
      ]
     },
     "execution_count": 69,
     "metadata": {},
     "output_type": "execute_result"
    }
   ],
   "source": [
    "sigma_br[:,150]"
   ]
  },
  {
   "cell_type": "code",
   "execution_count": 282,
   "metadata": {},
   "outputs": [
    {
     "data": {
      "text/plain": [
       "<matplotlib.lines.Line2D at 0x10b096910>"
      ]
     },
     "execution_count": 282,
     "metadata": {},
     "output_type": "execute_result"
    },
    {
     "data": {
      "image/png": "[encoded data removed]",
      "text/plain": [
       "<Figure size 640x480 with 1 Axes>"
      ]
     },
     "metadata": {},
     "output_type": "display_data"
    }
   ],
   "source": [
    "plt.plot(t, state[3,:], '--')\n",
    "plt.plot(t, state[4,:],'--')\n",
    "plt.plot(t, state[5,:],'--')\n",
    "plt.grid()\n",
    "\n",
    "# plt.plot(t, 0.2*np.sin(0.05 * t), 'r--')\n",
    "# plt.plot(t, 0.3*np.cos(0.05 * t), 'b--')\n",
    "# plt.plot(t, -0.3*np.sin(0.05 * t), 'g--')\n",
    "\n",
    "plt.axhline(0.1)\n",
    "plt.axhline(-0.06)\n",
    "plt.axhline(0.04)"
   ]
  },
  {
   "cell_type": "code",
   "execution_count": 177,
   "metadata": {},
   "outputs": [
    {
     "data": {
      "text/plain": [
       "[<matplotlib.lines.Line2D at 0x10970c820>]"
      ]
     },
     "execution_count": 177,
     "metadata": {},
     "output_type": "execute_result"
    },
    {
     "data": {
      "image/png": "[encoded data removed]",
      "text/plain": [
       "<Figure size 640x480 with 1 Axes>"
      ]
     },
     "metadata": {},
     "output_type": "display_data"
    }
   ],
   "source": [
    "plt.plot(t, norm(state[:3,:], axis=0))"
   ]
  },
  {
   "cell_type": "code",
   "execution_count": 176,
   "metadata": {},
   "outputs": [
    {
     "data": {
      "text/plain": [
       "[<matplotlib.lines.Line2D at 0x10959abb0>]"
      ]
     },
     "execution_count": 176,
     "metadata": {},
     "output_type": "execute_result"
    },
    {
     "data": {
      "image/png": "[encoded data removed]",
      "text/plain": [
       "<Figure size 640x480 with 1 Axes>"
      ]
     },
     "metadata": {},
     "output_type": "display_data"
    }
   ],
   "source": [
    "plt.plot(t, norm(state[3:,:], axis=0))"
   ]
  },
  {
   "cell_type": "code",
   "execution_count": null,
   "metadata": {},
   "outputs": [],
   "source": []
  },
  {
   "cell_type": "code",
   "execution_count": 67,
   "metadata": {},
   "outputs": [],
   "source": [
    "norm = np.linalg.norm\n",
    "def mrp_sum(g1, g2):\n",
    "    \n",
    "    norm1 = norm(g1)\n",
    "    norm2 = norm(g2)\n",
    "    \n",
    "    g_sum = ((1-norm1**2)*g2 +(1-norm2**2)*g1 - 2*np.cross(g1, g2)) / (1 + norm1**2 * norm2**2 - 2 * np.dot(g1, g2))\n",
    "    return g_sum\n",
    "\n",
    "\n",
    "def mrp_to_dcm(mrp_vector):\n",
    "    \n",
    "    identity = np.identity(3)\n",
    "    mrp_cross_matrix = tilde(mrp_vector)\n",
    "    norm_mrp = norm(mrp_vector)\n",
    "    dcm = identity + (8 * mrp_cross_matrix @ mrp_cross_matrix - 4 * (1 - norm_mrp ** 2) * mrp_cross_matrix) / \\\n",
    "                     ((1 + norm_mrp ** 2) ** 2)\n",
    "    return dcm\n",
    "    \n",
    "def runge_kutta45(f, initial_state, t):\n",
    "    \n",
    "    y = np.zeros((2, len(t)))\n",
    "    y[:,0] = initial_state\n",
    "    \n",
    "    for i in range(0, len(t)-1):\n",
    "        h = t[i+1] - t[i]\n",
    "        k1 = h * f(y[:, i], t[i])\n",
    "        k2 = h * f(y[:, i] + k1/2, t[i] + h/2)\n",
    "        k3 = h * f(y[:, i] + k2/2, t[i] + h/2)\n",
    "        k4 = h * f(y[:, i] + k3, t[i] + h)\n",
    "        y[:,i+1] = y[:,i] + 1/6*(k1 + 2*k2 + 2*k3 + k4)\n",
    "    return y\n",
    "\n",
    "def state_space_derivative(x, t, inertia_matrix):\n",
    "    \"\"\"State space derivative definition.\n",
    "\n",
    "    First three elements are the omegas, the following three are the MRPs\"\"\"\n",
    "\n",
    "    # Identity matrix\n",
    "    identity_matrix = np.identity(3)\n",
    "\n",
    "    # Principal moments of inertia\n",
    "    i_1 = inertia_matrix[0, 0]\n",
    "    i_2 = inertia_matrix[1, 1]\n",
    "    i_3 = inertia_matrix[2, 2]\n",
    "\n",
    "    # Splitting the state space in omegas and modified rodrigues parameters (MRPs)\n",
    "    omega_bn_vect = x[0:3]\n",
    "    mrp_bn_vect = x[-3:]\n",
    "\n",
    "    # Norm and cross product matrix of the MRPs BN\n",
    "    mrp_bn_cross_matrix = tilde(mrp_bn_vect)\n",
    "    mrp_bn_norm = np.linalg.norm(mrp_bn_vect)\n",
    "\n",
    "    mrp_rn_vect, omega_rn_vect_rframe = mrp_and_omega_rn(t)\n",
    "\n",
    "    omega_rn_dot_vect = omega_dot_rn(t, h)\n",
    "    # TODO: the time step should be an input of the state_space_derivative function\n",
    "\n",
    "    # MRPs BR and check their norm is not bigger than 1, otherwise the shadow set is consider\n",
    "    mrp_br_vect = mrp_sum(-mrp_rn_vect, mrp_bn_vect)\n",
    "    mrp_br_norm = np.linalg.norm(mrp_br_vect)\n",
    "    if mrp_br_norm > 1:\n",
    "        mrp_br_vect = -mrp_br_vect / (mrp_br_norm ** 2)\n",
    "\n",
    "    # DCM_BR\n",
    "    dcm_br = mrp_to_dcm(mrp_br_vect)\n",
    "\n",
    "    # omega_rn in the b_frame\n",
    "    omega_rn_vect = np.dot(dcm_br, omega_rn_vect_rframe)\n",
    "\n",
    "    # omega_br\n",
    "    omega_br_vect = omega_bn_vect - omega_rn_vect\n",
    "\n",
    "    if t == 40:\n",
    "        print(\"sigma_br norm at \", t, \": \", np.linalg.norm(mrp_br_vect))\n",
    "\n",
    "    # Control vector\n",
    "    k = 5\n",
    "    p = 10\n",
    "    omega_bn_cross_matrix = tilde(omega_bn_vect)\n",
    "    u = - k * mrp_br_vect - p * np.dot(identity_matrix, omega_br_vect) + \\\n",
    "        np.dot(inertia_matrix, (omega_rn_dot_vect - np.cross(omega_bn_vect, omega_rn_vect))) + \\\n",
    "        omega_bn_cross_matrix.dot(inertia_matrix).dot(omega_bn_vect)\n",
    "\n",
    "    # Computation of the MRPs kinematic differential equation and omegas differential equations\n",
    "    mrp_bn_dot_vect = 0.25 * np.dot(((1 - mrp_bn_norm ** 2) * identity_matrix + 2 * mrp_bn_cross_matrix +\n",
    "                                     2 * np.outer(mrp_bn_vect, mrp_bn_vect)), omega_bn_vect)\n",
    "    omega_1_bn_dot = (i_2 - i_3) / i_1 * omega_bn_vect[2] * omega_bn_vect[1] + u[0] / i_1\n",
    "    omega_2_bn_dot = (i_3 - i_1) / i_2 * omega_bn_vect[0] * omega_bn_vect[2] + u[1] / i_2\n",
    "    omega_3_bn_dot = (i_1 - i_2) / i_3 * omega_bn_vect[1] * omega_bn_vect[0] + u[2] / i_3\n",
    "    omega_bn_dot_vect = np.array([omega_1_bn_dot, omega_2_bn_dot, omega_3_bn_dot])\n",
    "\n",
    "    # Assembly of the state space derivative vector as the three omegas_dot and teh three MRPs_dot\n",
    "    x_dot = np.insert(omega_bn_dot_vect, 3, mrp_bn_dot_vect, axis=0)\n",
    "    return x_dot\n",
    "\n",
    "\n",
    "def sigma_rn(t):\n",
    "    f = 0.05\n",
    "    sig_rn = np.array([0.2 * np.sin(f * t), 0.3 * np.cos(f * t), -0.3 * np.sin(f * t)])\n",
    "    return sig_rn\n",
    "\n",
    "\n",
    "def sigma_rn_prime(t):\n",
    "    f = 0.05\n",
    "    sig_rn_prime = f * np.array([0.2 * np.cos(f * t), -0.3 * np.sin(f * t), -0.3 * np.cos(f * t)])\n",
    "    return sig_rn_prime\n",
    "\n",
    "\n",
    "def mrp_and_omega_rn(t):\n",
    "    identity_mat = np.identity(3)\n",
    "    # MRPs RN (and derivative)\n",
    "    mrp_rn = sigma_rn(t)\n",
    "    mrp_rn_norm = np.linalg.norm(mrp_rn)\n",
    "    mrp_rn_cross_matrix = tilde(mrp_rn)\n",
    "    mrp_rn_dot = sigma_rn_prime(t)\n",
    "\n",
    "    # B matrix of the MRPs kinematic differential equation (Eq. 3.155)\n",
    "    b_matrix = 0.25 * ((1 - mrp_rn_norm ** 2) * identity_mat + 2 * mrp_rn_cross_matrix + 2 * np.outer(mrp_rn, mrp_rn))\n",
    "\n",
    "    # omega_rn in r-frame, computed as (Eq. 3.158)\n",
    "    omega_rn_rframe = 4 / ((1 + mrp_rn_norm ** 2) ** 2) * np.dot(b_matrix.transpose(), mrp_rn_dot)\n",
    "\n",
    "    return mrp_rn, omega_rn_rframe\n",
    "\n",
    "\n",
    "def omega_dot_rn(t, tstep):\n",
    "    _, omega_rn_before = mrp_and_omega_rn(t-tstep)\n",
    "    _, omega_rn_after = mrp_and_omega_rn(t+tstep)\n",
    "    omega_rn_dot = (omega_rn_after - omega_rn_before) / (2 * tstep)\n",
    "    return omega_rn_dot\n",
    "\n",
    "\n",
    "# Initial conditions\n",
    "omega_bn_zero = np.deg2rad(np.array([30, 10, -20]))\n",
    "sigma_bn_zero = np.array([0.1, 0.2, -0.1])\n",
    "state_vector_initial = np.insert(omega_bn_zero, 3, sigma_bn_zero, axis=0)\n",
    "\n",
    "# Inertia matrix\n",
    "inertia_mat = np.diag(np.array([100, 75, 80]))\n",
    "\n",
    "# Time interval\n",
    "h = 0.01\n",
    "initial_t = 0\n",
    "final_t = 40\n",
    "t_vect, omega = runge_kutta(state_space_derivative, initial_t, final_t, state_vector_initial, h, inertia_mat)\n",
    "\n",
    "\n",
    "    "
   ]
  },
  {
   "cell_type": "code",
   "execution_count": 51,
   "metadata": {},
   "outputs": [
    {
     "name": "stdout",
     "output_type": "stream",
     "text": [
      "MRP<[nan nan nan]>\n"
     ]
    },
    {
     "name": "stderr",
     "output_type": "stream",
     "text": [
      "/var/folders/fr/6_7v365d1sd712jpqdkltk4w0000gn/T/ipykernel_2959/221276785.py:35: RuntimeWarning: overflow encountered in matmul\n",
      "  sigma_dot = 0.25 * sigma.b_matrix @ omega\n",
      "/var/folders/fr/6_7v365d1sd712jpqdkltk4w0000gn/T/ipykernel_2959/221276785.py:33: RuntimeWarning: invalid value encountered in matmul\n",
      "  omega_dot = np.linalg.inv(inertia) @ (-gyroscopic + control + L)\n",
      "/Users/sam/Documents/optimization/refactor/mrp.py:29: RuntimeWarning: invalid value encountered in scalar add\n",
      "  [1-norm_2+2*s1**2, 2*(s1*s2-s3), 2*(s1*s3+s2)],\n",
      "/Users/sam/Documents/optimization/refactor/mrp.py:29: RuntimeWarning: invalid value encountered in scalar subtract\n",
      "  [1-norm_2+2*s1**2, 2*(s1*s2-s3), 2*(s1*s3+s2)],\n",
      "/Users/sam/Documents/optimization/refactor/mrp.py:30: RuntimeWarning: invalid value encountered in scalar add\n",
      "  [2*(s2*s1+s3), 1-norm_2+2*s2**2, 2*(s2*s3-s1)],\n",
      "/Users/sam/Documents/optimization/refactor/mrp.py:30: RuntimeWarning: invalid value encountered in scalar subtract\n",
      "  [2*(s2*s1+s3), 1-norm_2+2*s2**2, 2*(s2*s3-s1)],\n",
      "/Users/sam/Documents/optimization/refactor/mrp.py:31: RuntimeWarning: invalid value encountered in scalar subtract\n",
      "  [2*(s3*s1-s2), 2*(s3*s2+s1), 1-norm_2+s3**2]\n",
      "/Users/sam/Documents/optimization/refactor/mrp.py:31: RuntimeWarning: invalid value encountered in scalar add\n",
      "  [2*(s3*s1-s2), 2*(s3*s2+s1), 1-norm_2+s3**2]\n"
     ]
    }
   ],
   "source": [
    "inertia = np.array([\n",
    "    [100,0,0],\n",
    "    [0,75,0],\n",
    "    [0,0,80]\n",
    "])\n",
    "\n",
    "sigma0 = MRP(0.1,0.2,-0.1)\n",
    "omega0 = np.deg2rad(np.array([30,10,-20]))\n",
    "\n",
    "K = 5\n",
    "P = 10 * np.eye(3)\n",
    "L = 0\n",
    "\n",
    "\n",
    "t0, tf = 0, 30\n",
    "step = 0.01\n",
    "length = int(round(tf-t0)/step)\n",
    "time = np.linspace(t0, tf+step, length)\n",
    "\n",
    "\n",
    "\n",
    "results = []\n",
    "\n",
    "control_history = []\n",
    "sigma = sigma0\n",
    "omega = omega0\n",
    "omega_r = np.array([0,0,0])\n",
    "for t in time:\n",
    "    \n",
    "    gyroscopic = tilde(omega) @ (inertia@omega)\n",
    "    control = -K*sigma.vector - P@omega + inertia@(omega_r - tilde(omega)@omega_r) + gyroscopic - L\n",
    "    \n",
    "    omega_dot = np.linalg.inv(inertia) @ (-gyroscopic + control + L)\n",
    "    omega += omega_dot * step\n",
    "    sigma_dot = 0.25 * sigma.b_matrix @ omega\n",
    "    \n",
    "    sigma_new = sigma.vector + sigma_dot\n",
    "    sigma = MRP(*sigma_new)\n",
    "\n",
    "print(sigma)\n",
    "    \n",
    "    "
   ]
  },
  {
   "cell_type": "code",
   "execution_count": 284,
   "metadata": {},
   "outputs": [
    {
     "data": {
      "text/plain": [
       "array([22.36067977, 19.36491673, 20.        ])"
      ]
     },
     "execution_count": 284,
     "metadata": {},
     "output_type": "execute_result"
    }
   ],
   "source": [
    "np.sqrt(5)*np.sqrt([100, 75, 80])"
   ]
  },
  {
   "cell_type": "code",
   "execution_count": null,
   "metadata": {},
   "outputs": [],
   "source": [
    "def state_derivatives(X, t, time_step, inertia_matrix, external_torque, sigma_history, initial_state):\n",
    "    \n",
    "    identity = np.identity(3)\n",
    "    \n",
    "    # Principal moments of inertia\n",
    "    i_1 = inertia_matrix[0, 0]\n",
    "    i_2 = inertia_matrix[1, 1]\n",
    "    i_3 = inertia_matrix[2, 2]\n",
    "    \n",
    "    omega_bn = X[0:3]\n",
    "    mrp_bn = X[3:]\n",
    "    \n",
    "    mrp_rn, omega_rn_rframe = mrp_omega_rn(t)\n",
    "    omega_rn_dot_vect = omega_rn_dot(t, time_step)\n",
    "    \n",
    "    mrp_br = mrp_sum(-mrp_rn, mrp_bn)\n",
    "    mrp_br_norm = norm(mrp_br)\n",
    "    if mrp_br_norm > 1:\n",
    "        mrp_br = -mrp_br / (mrp_br_norm**2)\n",
    "        \n",
    "    dcm_br = mrp_to_dcm(mrp_br)\n",
    "    omega_rn = dcm_br @ omega_rn_rframe\n",
    "    omega_br = omega_bn - omega_rn\n",
    "    omega_bn_cross = tilde(omega_bn)\n",
    "    \n",
    "    if np.abs(t-45) < 1e-2:\n",
    "        print('*'*50)\n",
    "        print(\"sigma_br norm at\", t, \": \", norm(mrp_br))\n",
    "        print(\"omega_br norm at\", t, \": \", norm(omega_br))\n",
    "    \n",
    "    # Control Vector\n",
    "    K = 5\n",
    "    P = 10\n",
    "    Ki = 0.005\n",
    "\n",
    "    sigma_history[:, int(t/time_step)] = mrp_br\n",
    "    \n",
    "    # u = -K*mrp_bn - P*omega_bn + omega_bn_cross @ inertia_matrix @ omega_bn\n",
    "    \n",
    "    omega_bn_0 = initial_state[:3]\n",
    "    _, omega_rn_0 = mrp_omega_rn(0)\n",
    "    omega_br_0 = omega_bn_0 - omega_rn_0\n",
    "    \n",
    "    z = K * time_step * np.sum(sigma_history, axis=1) + inertia_matrix @ (omega_br - omega_br_0)\n",
    "            \n",
    "    u = -K*mrp_br - P*omega_br + inertia_matrix @ (omega_rn_dot_vect - omega_bn_cross @ omega_rn) \\\n",
    "        + omega_bn_cross @ inertia_matrix @ omega_bn - P*Ki*z\n",
    "        \n",
    "    # u = -K*mrp_br - P*omega_br\n",
    "    \n",
    "    mrp_bn_dot = 0.25 * b_matrix_mrp(mrp_bn) @ omega_bn\n",
    "    omega_1_bn_dot = (i_2 - i_3) / i_1 * omega_bn[2] * omega_bn[1] + (u[0] + external_torque[0]) / i_1\n",
    "    omega_2_bn_dot = (i_3 - i_1) / i_2 * omega_bn[0] * omega_bn[2] + (u[1] + external_torque[1]) / i_2\n",
    "    omega_3_bn_dot = (i_1 - i_2) / i_3 * omega_bn[1] * omega_bn[0] + (u[2] + external_torque[2]) / i_3\n",
    "    omega_bn_dot = np.array([omega_1_bn_dot, omega_2_bn_dot, omega_3_bn_dot])\n",
    "    \n",
    "    x_dot = np.insert(omega_bn_dot, 3, mrp_bn_dot, axis=0)\n",
    "    return x_dot\n",
    "\n",
    "def sigma_rn(t):\n",
    "\n",
    "    return np.array([0,0,0])\n",
    "    \n",
    "def sigma_rn_dot(t):\n",
    "\n",
    "    return np.array([0,0,0])\n",
    "\n",
    "def mrp_omega_rn(t):\n",
    "    \n",
    "    mrp_rn = sigma_rn(t)\n",
    "    mrp_rn_norm = norm(mrp_rn)\n",
    "    b_matrix_rn = b_matrix_mrp(mrp_rn)\n",
    "    b_matrix_rn_inv = np.transpose(b_matrix_rn) / (1 + mrp_rn_norm**2)\n",
    "    \n",
    "    omega_rn = 4 * b_matrix_rn_inv @ sigma_rn_dot(t)\n",
    "    \n",
    "    return mrp_rn, omega_rn\n",
    "\n",
    "def omega_rn_dot(t, time_step):\n",
    "    \n",
    "    _, omega_rn_before = mrp_omega_rn(t - time_step)\n",
    "    _, omega_rn_after = mrp_omega_rn(t + time_step)\n",
    "    omega_rn_dot = (omega_rn_after - omega_rn_before) / (2 * time_step)\n",
    "    return omega_rn_dot\n",
    "    \n",
    "    \n",
    "    \n",
    "\n",
    "\n",
    "def runge_kutta45(f, t, initial_state, **kwargs):\n",
    "    \n",
    "    X = np.zeros((6, len(t)))\n",
    "    X[:,0] = initial_state\n",
    "    \n",
    "    for i in range(0, len(t)-1):\n",
    "        h = t[i+1] - t[i]\n",
    "        k1 = h * f(X[:, i], t[i], initial_state=initial_state, **kwargs)\n",
    "        k2 = h * f(X[:, i] + k1/2, t[i] + h/2, initial_state=initial_state, **kwargs)\n",
    "        k3 = h * f(X[:, i] + k2/2, t[i] + h/2, initial_state=initial_state, **kwargs)\n",
    "        k4 = h * f(X[:, i] + k3, t[i] + h, initial_state=initial_state, **kwargs)\n",
    "        X[:,i+1] = X[:,i] + 1/6*(k1 + 2*k2 + 2*k3 + k4)\n",
    "    return X\n",
    "\n",
    "# Initial Conditions\n",
    "omega_bn_0 = np.deg2rad([3,1,-2])\n",
    "sigma_bn_0 = np.array([0.1,0.2,-0.1])\n",
    "\n",
    "\n",
    "initial_state = np.insert(omega_bn_0, 3, sigma_bn_0, axis=0)\n",
    "\n",
    "inertia_matrix = np.diag(np.array([100,75,80]))\n",
    "\n",
    "external_torque = np.array([0,0,0])\n",
    "\n",
    "# Time interval\n",
    "h = 0.03\n",
    "t0 = 0\n",
    "tf = 100\n",
    "t = np.linspace(t0, tf+h, int(tf/h))\n",
    "sigmas = np.zeros((3, len(t)))\n",
    "sigmas[:,0] = sigma_bn_0\n",
    "\n",
    "state = runge_kutta45(state_derivatives, t,\n",
    "                    initial_state,\n",
    "                    time_step=h,\n",
    "                    inertia_matrix=inertia_matrix,\n",
    "                    external_torque = external_torque)\n"
   ]
  }
 ],
 "metadata": {
  "kernelspec": {
   "display_name": "py372",
   "language": "python",
   "name": "python3"
  },
  "language_info": {
   "codemirror_mode": {
    "name": "ipython",
    "version": 3
   },
   "file_extension": ".py",
   "mimetype": "text/x-python",
   "name": "python",
   "nbconvert_exporter": "python",
   "pygments_lexer": "ipython3",
   "version": "3.10.13"
  }
 },
 "nbformat": 4,
 "nbformat_minor": 2
}
