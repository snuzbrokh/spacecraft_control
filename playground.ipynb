{
 "cells": [
  {
   "cell_type": "code",
   "execution_count": 2,
   "metadata": {},
   "outputs": [],
   "source": [
    "import numpy as np\n",
    "from scipy.spatial.transform import Rotation as R"
   ]
  },
  {
   "cell_type": "code",
   "execution_count": 3,
   "metadata": {},
   "outputs": [],
   "source": [
    "import numpy as np\n",
    "\n",
    "def rotation_matrix(axis, theta):\n",
    "    \"\"\"\n",
    "    Calculates the principal axis rotations for Euler angles given a set of axes (3, 2, 1) and rotation angles in degrees.\n",
    "\n",
    "    Parameters:\n",
    "        axes (tuple): A tuple specifying the order of rotation axes.\n",
    "        degree (tuple): A tuple of rotation angles in degrees corresponding to the specified axes.\n",
    "\n",
    "    Returns:\n",
    "        np.ndarray: The 3x3 rotation matrix representing the rotation.\n",
    "    \"\"\"\n",
    "    \n",
    "    theta = np.deg2rad(theta)\n",
    "\n",
    "    if axis == '1':\n",
    "        rotation = np.array([[1, 0, 0],\n",
    "                            [0, np.cos(theta), np.sin(theta)],\n",
    "                            [0, -np.sin(theta), np.cos(theta)]])\n",
    "    elif axis == '2':\n",
    "        rotation = np.array([[np.cos(theta), 0, -np.sin(theta)],\n",
    "                                [0, 1, 0],\n",
    "                                [np.sin(theta), 0, np.cos(theta)]])\n",
    "    elif axis == '3':\n",
    "        rotation = np.array([[np.cos(theta), np.sin(theta), 0],\n",
    "                                [-np.sin(theta), np.cos(theta), 0],\n",
    "                                [0, 0, 1]])\n",
    "    else:\n",
    "        raise ValueError(\"Invalid axis specified. Valid axis values are 1, 2, or 3.\")\n",
    "\n",
    "    return rotation\n"
   ]
  },
  {
   "cell_type": "code",
   "execution_count": 4,
   "metadata": {},
   "outputs": [],
   "source": [
    "from functools import reduce\n",
    "\n",
    "def compose_rotation(angles, sequence):\n",
    "    rotations = [rotation_matrix(axis, theta) for (axis, theta) in zip(sequence, angles)]\n",
    "    return reduce(np.matmul, rotations[::-1])\n",
    "    "
   ]
  },
  {
   "cell_type": "code",
   "execution_count": 5,
   "metadata": {},
   "outputs": [],
   "source": [
    "def euler_angles(dcm, sequence):\n",
    "    angles = []\n",
    "    if sequence == '321':\n",
    "        psi = np.arctan(dcm[0][1] / dcm[0][0])\n",
    "        theta = -np.arcsin(dcm[0][2])\n",
    "        phi = np.arctan(dcm[1][2] / dcm[2][2])\n",
    "        return [psi, theta, phi]\n",
    "        \n",
    "    if sequence == '313':\n",
    "        psi = np.arctan(dcm[2][0] / -dcm[2][1])\n",
    "        theta = np.arccos(dcm[2][2])\n",
    "        phi = np.arctan(dcm[0][2] / dcm[1][2])\n",
    "        return [psi, theta, phi]\n",
    "    \n",
    "def get_prv(dcm):\n",
    "    \n",
    "    phi = np.arccos(0.5*(np.trace(dcm)-1))\n",
    "    e = np.array([dcm[1][2] - dcm[2][1], dcm[2][0] - dcm[0][2], dcm[0][1] - dcm[1][0]])/(2*np.sin(phi))\n",
    "    \n",
    "    return phi, e\n",
    "        \n",
    "\n",
    "    \n",
    "    "
   ]
  },
  {
   "cell_type": "code",
   "execution_count": 6,
   "metadata": {},
   "outputs": [
    {
     "name": "stdout",
     "output_type": "stream",
     "text": [
      "[[ 0.92541658  0.33682409 -0.17364818]\n",
      " [-0.36515929  0.91510341 -0.17101007]\n",
      " [ 0.10130573  0.2216648   0.96984631]]\n",
      "(0.43898588626075874, array([-0.46194682,  0.32345865,  0.82582058]))\n",
      "[-24.561, 14.106, 45.439]\n",
      "[-0.4287  0.2462  0.7931]\n",
      "[ 20.00146269 -10.00059873   9.99965301]\n"
     ]
    }
   ],
   "source": [
    "bn = compose_rotation([20,10,-10],'321')\n",
    "print(bn)\n",
    "\n",
    "print(get_prv(bn))\n",
    "\n",
    "print(list(map(lambda x: np.round(np.rad2deg(x),3), euler_angles(bn, '313'))))\n",
    "print(np.round(euler_angles(bn,'313'),4))\n",
    "\n",
    "# check\n",
    "\n",
    "bn = compose_rotation(np.rad2deg([-0.4287,  0.2462,  0.7931]), '313')\n",
    "print(np.rad2deg(euler_angles(bn, '321')))"
   ]
  },
  {
   "cell_type": "code",
   "execution_count": 7,
   "metadata": {},
   "outputs": [
    {
     "name": "stdout",
     "output_type": "stream",
     "text": [
      "(3.141592653589793, array([0., 0., 0.]))\n",
      "[[ 1  0  0]\n",
      " [ 0 -1  0]\n",
      " [ 0  0 -1]]\n"
     ]
    }
   ],
   "source": [
    "bn = np.array(\n",
    "    [[1,0,0],\n",
    "    [0,0,1],\n",
    "    [0,-1,0]]\n",
    ")\n",
    "result = bn @ bn\n",
    "print(get_prv(result))\n",
    "print(result)"
   ]
  },
  {
   "cell_type": "code",
   "execution_count": 8,
   "metadata": {},
   "outputs": [
    {
     "name": "stdout",
     "output_type": "stream",
     "text": [
      "[[ 0.92541658  0.16317591 -0.34202014]\n",
      " [ 0.01802831  0.88256412  0.46984631]\n",
      " [ 0.37852231 -0.44096961  0.81379768]]\n",
      "[0.92541658 0.01802831 0.37852231]\n"
     ]
    }
   ],
   "source": [
    "bn = compose_rotation([10,20,30], '321')\n",
    "rn = compose_rotation([-5,5,5],'321')\n",
    "omega = np.array([1,0,0])\n",
    "br = bn @ omega\n",
    "print(bn)\n",
    "print(br)\n",
    "\n",
    "\n",
    "# print(list(map(lambda x: np.round(np.rad2deg(x),3), euler_angles(br, '321'))))"
   ]
  },
  {
   "cell_type": "code",
   "execution_count": 9,
   "metadata": {},
   "outputs": [
    {
     "data": {
      "text/plain": [
       "array([0.00000000e+00, 1.00047630e-02, 2.00095261e-02, ...,\n",
       "       4.19899905e+01, 4.19999952e+01, 4.20100000e+01])"
      ]
     },
     "execution_count": 9,
     "metadata": {},
     "output_type": "execute_result"
    }
   ],
   "source": [
    "t0, tf = 0, 42\n",
    "step = 0.01\n",
    "length = int(round(tf-t0)/step)\n",
    "time = np.linspace(t0, tf+step, length)\n",
    "\n",
    "time"
   ]
  },
  {
   "cell_type": "code",
   "execution_count": 10,
   "metadata": {},
   "outputs": [
    {
     "name": "stdout",
     "output_type": "stream",
     "text": [
      "[2.40022067 0.97077517 5.54790455]\n",
      "6.12231236011601\n"
     ]
    }
   ],
   "source": [
    "bn = compose_rotation([40,30,80],'321')\n",
    "t0, tf = 0, 42\n",
    "step = 0.01\n",
    "length = int(round(tf-t0)/step)\n",
    "time = np.linspace(t0, tf+step, length)\n",
    "\n",
    "\n",
    "def get_body_ypr(t2, t3):\n",
    "\n",
    "    return np.array(\n",
    "        [[0, np.sin(t3), np.cos(t3)],\n",
    "        [0, np.cos(t2)*np.cos(t3), -np.cos(t2)*np.sin(t3)],\n",
    "        [np.cos(t2), np.sin(t2)*np.sin(t3), np.sin(t2)*np.cos(t3)]]\n",
    "    )/np.cos(t2)\n",
    "\n",
    "results = []\n",
    "angles = np.deg2rad([40,30,80])\n",
    "omega_angle = np.deg2rad(20)\n",
    "\n",
    "for t in time:\n",
    "    omega = np.array([np.sin(0.1*t), 0.01, np.cos(0.1*t)]) * omega_angle\n",
    "    body_ypr = get_body_ypr(angles[1], angles[2])\n",
    "    euler_rate = body_ypr @ omega\n",
    "    angles += step * euler_rate\n",
    "    \n",
    "print(angles)\n",
    "print(np.linalg.norm(angles))"
   ]
  },
  {
   "cell_type": "code",
   "execution_count": 11,
   "metadata": {},
   "outputs": [],
   "source": [
    "phi = np.arccos(0.5*(0.925417 -0.521181-0.492404-1))\n",
    "e = np.array([0.852869+0.784102, 0.377786-0.173648, 0.336824-0.0296956])/(2*np.sin(phi))"
   ]
  },
  {
   "cell_type": "code",
   "execution_count": 12,
   "metadata": {},
   "outputs": [],
   "source": [
    "from sympy.interactive.printing import init_printing\n",
    "init_printing(use_unicode=False, wrap_line=False)\n",
    "from sympy.matrices import Matrix, zeros, ones, diag, GramSchmidt\n",
    "from sympy import cos, sin, gcd, Symbol\n",
    "\n"
   ]
  },
  {
   "cell_type": "code",
   "execution_count": 13,
   "metadata": {},
   "outputs": [],
   "source": [
    "r = np.array([2,0,0])\n"
   ]
  },
  {
   "cell_type": "code",
   "execution_count": 17,
   "metadata": {},
   "outputs": [
    {
     "data": {
      "text/latex": [
       "$\\displaystyle \\left[\\begin{matrix}- \\sin^{2}{\\left(\\phi \\right)} \\cos{\\left(\\theta \\right)} + \\cos^{2}{\\left(\\phi \\right)} & \\sin{\\left(\\phi \\right)} \\cos{\\left(\\phi \\right)} \\cos{\\left(\\theta \\right)} + \\sin{\\left(\\phi \\right)} \\cos{\\left(\\phi \\right)} & \\sin{\\left(\\phi \\right)} \\sin{\\left(\\theta \\right)}\\\\- \\sin{\\left(\\phi \\right)} \\cos{\\left(\\phi \\right)} \\cos{\\left(\\theta \\right)} - \\sin{\\left(\\phi \\right)} \\cos{\\left(\\phi \\right)} & - \\sin^{2}{\\left(\\phi \\right)} + \\cos^{2}{\\left(\\phi \\right)} \\cos{\\left(\\theta \\right)} & \\sin{\\left(\\theta \\right)} \\cos{\\left(\\phi \\right)}\\\\\\sin{\\left(\\phi \\right)} \\sin{\\left(\\theta \\right)} & - \\sin{\\left(\\theta \\right)} \\cos{\\left(\\phi \\right)} & \\cos{\\left(\\theta \\right)}\\end{matrix}\\right]$"
      ],
      "text/plain": [
       "[            2                      2                                                                                    ]\n",
       "[       - sin (phi)*cos(theta) + cos (phi)          sin(phi)*cos(phi)*cos(theta) + sin(phi)*cos(phi)  sin(phi)*sin(theta)]\n",
       "[                                                                                                                        ]\n",
       "[                                                               2           2                                            ]\n",
       "[-sin(phi)*cos(phi)*cos(theta) - sin(phi)*cos(phi)         - sin (phi) + cos (phi)*cos(theta)         sin(theta)*cos(phi)]\n",
       "[                                                                                                                        ]\n",
       "[               sin(phi)*sin(theta)                               -sin(theta)*cos(phi)                    cos(theta)     ]"
      ]
     },
     "execution_count": 17,
     "metadata": {},
     "output_type": "execute_result"
    }
   ],
   "source": [
    "theta = Symbol('theta')\n",
    "phi = Symbol('phi')\n",
    "\n",
    "m3 = Matrix((\n",
    "    [cos(phi), sin(phi), 0],\n",
    "    [-sin(phi), cos(phi), 0],\n",
    "    [0,0,1]\n",
    "))\n",
    "\n",
    "\n",
    "m1 = Matrix((\n",
    "    [1,0,0],\n",
    "    [0, cos(theta), sin(theta)],\n",
    "    [0, -sin(theta), cos(theta)]\n",
    "))\n",
    "\n",
    "flip = Matrix((\n",
    "    [0,1,0],\n",
    "    [1,0,0],\n",
    "    [0,0,1]\n",
    "))\n",
    "\n",
    "m3@m1@m3\n"
   ]
  },
  {
   "cell_type": "code",
   "execution_count": 192,
   "metadata": {},
   "outputs": [
    {
     "data": {
      "text/latex": [
       "$\\displaystyle \\left[\\begin{matrix}\\sin{\\left(\\phi \\right)} + 2 \\cos{\\left(\\phi \\right)}\\\\- 2 \\sin{\\left(\\phi \\right)} \\cos{\\left(\\theta \\right)} + \\sin{\\left(\\theta \\right)} + \\cos{\\left(\\phi \\right)} \\cos{\\left(\\theta \\right)}\\\\2 \\sin{\\left(\\phi \\right)} \\sin{\\left(\\theta \\right)} - \\sin{\\left(\\theta \\right)} \\cos{\\left(\\phi \\right)} + \\cos{\\left(\\theta \\right)}\\end{matrix}\\right]$"
      ],
      "text/plain": [
       "[                  sin(phi) + 2*cos(phi)                  ]\n",
       "[                                                         ]\n",
       "[-2*sin(phi)*cos(theta) + sin(theta) + cos(phi)*cos(theta)]\n",
       "[                                                         ]\n",
       "[2*sin(phi)*sin(theta) - sin(theta)*cos(phi) + cos(theta) ]"
      ]
     },
     "execution_count": 192,
     "metadata": {},
     "output_type": "execute_result"
    }
   ],
   "source": [
    "vector = Matrix([2,1,1])\n",
    "(m1*m3)*vector"
   ]
  },
  {
   "cell_type": "code",
   "execution_count": 50,
   "metadata": {},
   "outputs": [],
   "source": [
    "bf = bn @ fn.T"
   ]
  },
  {
   "cell_type": "code",
   "execution_count": 51,
   "metadata": {},
   "outputs": [
    {
     "name": "stdout",
     "output_type": "stream",
     "text": [
      "[[ 0.30337177 -0.0049418   0.95285946]\n",
      " [-0.93531497  0.18953372  0.29876893]\n",
      " [-0.18207545 -0.98186178  0.05287704]]\n"
     ]
    }
   ],
   "source": [
    "print(bf)"
   ]
  },
  {
   "cell_type": "code",
   "execution_count": 19,
   "metadata": {},
   "outputs": [],
   "source": [
    "r1 = R.from_euler('x', 60, degrees=True)\n",
    "r2 = R.from_euler('y', -45, degrees=True)\n",
    "r3 = R.from_euler('z', 30, degrees=True)\n",
    "\n"
   ]
  },
  {
   "cell_type": "code",
   "execution_count": 31,
   "metadata": {},
   "outputs": [
    {
     "data": {
      "text/plain": [
       "array([[ 0.61237244, -0.35355339, -0.70710678],\n",
       "       [-0.28033009,  0.73919892, -0.61237244],\n",
       "       [ 0.73919892,  0.5732233 ,  0.35355339]])"
      ]
     },
     "execution_count": 31,
     "metadata": {},
     "output_type": "execute_result"
    }
   ],
   "source": [
    "rotation = r1 * r2 * r3\n",
    "rotation.as_matrix()"
   ]
  },
  {
   "cell_type": "code",
   "execution_count": 29,
   "metadata": {},
   "outputs": [
    {
     "data": {
      "text/plain": [
       "array([ 30., -45.,  60.])"
      ]
     },
     "execution_count": 29,
     "metadata": {},
     "output_type": "execute_result"
    }
   ],
   "source": [
    "rotation.as_euler('zyx', degrees=True)"
   ]
  },
  {
   "cell_type": "code",
   "execution_count": 14,
   "metadata": {},
   "outputs": [],
   "source": [
    "def tilde(x):\n",
    "    return np.array([\n",
    "        [0, -x[2], x[1]],\n",
    "        [x[2], 0, -x[0]],\n",
    "        [-x[1], x[0], 0]\n",
    "    ])"
   ]
  },
  {
   "cell_type": "code",
   "execution_count": 17,
   "metadata": {},
   "outputs": [
    {
     "data": {
      "text/plain": [
       "array([[ 0,  0,  0],\n",
       "       [ 0, -4,  0],\n",
       "       [ 0,  0, -4]])"
      ]
     },
     "execution_count": 17,
     "metadata": {},
     "output_type": "execute_result"
    }
   ],
   "source": [
    "r = np.array([2,0,0])\n",
    "\n",
    "tilde(r) @ tilde(r)"
   ]
  },
  {
   "cell_type": "code",
   "execution_count": 18,
   "metadata": {},
   "outputs": [
    {
     "data": {
      "image/png": "[encoded data removed]",
      "text/latex": [
       "$\\displaystyle 2$"
      ],
      "text/plain": [
       "2"
      ]
     },
     "execution_count": 18,
     "metadata": {},
     "output_type": "execute_result"
    }
   ],
   "source": [
    "2"
   ]
  },
  {
   "cell_type": "code",
   "execution_count": 19,
   "metadata": {},
   "outputs": [],
   "source": [
    "a = np.array([1,2,3])\n",
    "b = np.array([2,0.2,1])\n",
    "c = np.array([-1, 4, -2])\n",
    "d = np.array([-2,2,1])\n",
    "\n"
   ]
  },
  {
   "cell_type": "code",
   "execution_count": 21,
   "metadata": {},
   "outputs": [],
   "source": [
    "ans  = np.dot(\n",
    "    np.cross(a,b), np.cross(c,d))\n",
    "\n",
    "ans2 = np.dot(a,d) * np.dot(b,c) - np.dot(a,c) * np.dot(b,d)"
   ]
  },
  {
   "cell_type": "code",
   "execution_count": null,
   "metadata": {},
   "outputs": [],
   "source": []
  },
  {
   "cell_type": "code",
   "execution_count": 22,
   "metadata": {},
   "outputs": [
    {
     "name": "stdout",
     "output_type": "stream",
     "text": [
      "13.400000000000004 -13.4\n"
     ]
    }
   ],
   "source": [
    "print(ans, ans2)"
   ]
  },
  {
   "cell_type": "code",
   "execution_count": 29,
   "metadata": {},
   "outputs": [],
   "source": [
    "K = np.array([\n",
    "     [1.53947, -0.0422688, -0.190629],\n",
    "     [-0.0422688, 1.4759, 0.459006],\n",
    "     [-0.190629, 0.459006, 1.48463]\n",
    " ])\n",
    "\n",
    "K = np.array([\n",
    "    [-0.984331, -1.10006, -0.478579],\n",
    "    [-1.10006, 1.03255, 0.338318],\n",
    "    [-0.478579, 0.338318, 1.45178]\n",
    " ])\n",
    "\n",
    "K = np.array([\n",
    "    [-2.0353, 0.296916, -0.365128],\n",
    "    [0.296916, -1.10369, -0.074481],\n",
    "    [-0.365128, -0.074481, -2.86101]\n",
    " ])"
   ]
  },
  {
   "cell_type": "code",
   "execution_count": 30,
   "metadata": {},
   "outputs": [
    {
     "data": {
      "text/plain": [
       "array([[-2.0353  ,  0.296916, -0.365128],\n",
       "       [ 0.296916, -1.10369 , -0.074481],\n",
       "       [-0.365128, -0.074481, -2.86101 ]])"
      ]
     },
     "execution_count": 30,
     "metadata": {},
     "output_type": "execute_result"
    }
   ],
   "source": [
    "K"
   ]
  },
  {
   "cell_type": "code",
   "execution_count": 38,
   "metadata": {},
   "outputs": [
    {
     "ename": "IndexError",
     "evalue": "too many indices for array: array is 1-dimensional, but 2 were indexed",
     "output_type": "error",
     "traceback": [
      "\u001b[0;31m---------------------------------------------------------------------------\u001b[0m",
      "\u001b[0;31mIndexError\u001b[0m                                Traceback (most recent call last)",
      "Cell \u001b[0;32mIn[38], line 1\u001b[0m\n\u001b[0;32m----> 1\u001b[0m \u001b[43mBmatMRP\u001b[49m\u001b[43m(\u001b[49m\u001b[43mnp\u001b[49m\u001b[38;5;241;43m.\u001b[39;49m\u001b[43mones_like\u001b[49m\u001b[43m(\u001b[49m\u001b[43m[\u001b[49m\u001b[38;5;241;43m0.1\u001b[39;49m\u001b[43m,\u001b[49m\u001b[38;5;241;43m0.2\u001b[39;49m\u001b[43m,\u001b[49m\u001b[38;5;241;43m0.1\u001b[39;49m\u001b[43m]\u001b[49m\u001b[43m)\u001b[49m\u001b[43m)\u001b[49m\n",
      "Cell \u001b[0;32mIn[34], line 13\u001b[0m, in \u001b[0;36mBmatMRP\u001b[0;34m(q)\u001b[0m\n\u001b[1;32m      2\u001b[0m \u001b[38;5;250m\u001b[39m\u001b[38;5;124;03m\"\"\"\u001b[39;00m\n\u001b[1;32m      3\u001b[0m \u001b[38;5;124;03mBmatMRP(Q)\u001b[39;00m\n\u001b[1;32m      4\u001b[0m \n\u001b[0;32m   (...)\u001b[0m\n\u001b[1;32m      9\u001b[0m \u001b[38;5;124;03m\t\tdQ/dt = 1/4 [B(Q)] w\u001b[39;00m\n\u001b[1;32m     10\u001b[0m \u001b[38;5;124;03m\"\"\"\u001b[39;00m\n\u001b[1;32m     12\u001b[0m B \u001b[38;5;241m=\u001b[39m np\u001b[38;5;241m.\u001b[39mmatrix(\u001b[38;5;124m\"\u001b[39m\u001b[38;5;124m0. 0. 0.;0. 0. 0.;0. 0. 0.\u001b[39m\u001b[38;5;124m\"\u001b[39m);\n\u001b[0;32m---> 13\u001b[0m s2 \u001b[38;5;241m=\u001b[39m \u001b[43m(\u001b[49m\u001b[43mq\u001b[49m\u001b[38;5;241;43m.\u001b[39;49m\u001b[43mT\u001b[49m\u001b[38;5;241;43m*\u001b[39;49m\u001b[43mq\u001b[49m\u001b[43m)\u001b[49m\u001b[43m[\u001b[49m\u001b[38;5;241;43m0\u001b[39;49m\u001b[43m,\u001b[49m\u001b[38;5;241;43m0\u001b[39;49m\u001b[43m]\u001b[49m;\n\u001b[1;32m     14\u001b[0m B[\u001b[38;5;241m0\u001b[39m,\u001b[38;5;241m0\u001b[39m] \u001b[38;5;241m=\u001b[39m \u001b[38;5;241m1\u001b[39m\u001b[38;5;241m-\u001b[39ms2\u001b[38;5;241m+\u001b[39m\u001b[38;5;241m2\u001b[39m\u001b[38;5;241m*\u001b[39mq[\u001b[38;5;241m0\u001b[39m,\u001b[38;5;241m0\u001b[39m]\u001b[38;5;241m*\u001b[39mq[\u001b[38;5;241m0\u001b[39m,\u001b[38;5;241m0\u001b[39m];\n\u001b[1;32m     15\u001b[0m B[\u001b[38;5;241m0\u001b[39m,\u001b[38;5;241m1\u001b[39m] \u001b[38;5;241m=\u001b[39m \u001b[38;5;241m2\u001b[39m\u001b[38;5;241m*\u001b[39m(q[\u001b[38;5;241m0\u001b[39m,\u001b[38;5;241m0\u001b[39m]\u001b[38;5;241m*\u001b[39mq[\u001b[38;5;241m1\u001b[39m,\u001b[38;5;241m0\u001b[39m]\u001b[38;5;241m-\u001b[39mq[\u001b[38;5;241m2\u001b[39m,\u001b[38;5;241m0\u001b[39m]);\n",
      "\u001b[0;31mIndexError\u001b[0m: too many indices for array: array is 1-dimensional, but 2 were indexed"
     ]
    }
   ],
   "source": [
    "BmatMRP(np.ones_like([0.1,0.2,0.1]))"
   ]
  },
  {
   "cell_type": "code",
   "execution_count": 42,
   "metadata": {},
   "outputs": [
    {
     "data": {
      "text/plain": [
       "array([[ 0, -3,  2],\n",
       "       [ 3,  0, -1],\n",
       "       [-2,  1,  0]])"
      ]
     },
     "execution_count": 42,
     "metadata": {},
     "output_type": "execute_result"
    }
   ],
   "source": [
    "tilde(np.array([1,2,3]))"
   ]
  },
  {
   "cell_type": "markdown",
   "metadata": {},
   "source": [
    "### RK Integration Practice"
   ]
  },
  {
   "cell_type": "code",
   "execution_count": null,
   "metadata": {},
   "outputs": [],
   "source": []
  },
  {
   "cell_type": "code",
   "execution_count": 113,
   "metadata": {},
   "outputs": [
    {
     "data": {
      "text/plain": [
       "array([0., 0.])"
      ]
     },
     "execution_count": 113,
     "metadata": {},
     "output_type": "execute_result"
    }
   ],
   "source": [
    "a = np.zeros((2,4))\n",
    "a[:,1]"
   ]
  },
  {
   "cell_type": "code",
   "execution_count": 123,
   "metadata": {},
   "outputs": [
    {
     "data": {
      "text/plain": [
       "[<matplotlib.lines.Line2D at 0x108de7400>]"
      ]
     },
     "execution_count": 123,
     "metadata": {},
     "output_type": "execute_result"
    },
    {
     "data": {
      "image/png": "[encoded data removed]",
      "text/plain": [
       "<Figure size 640x480 with 1 Axes>"
      ]
     },
     "metadata": {},
     "output_type": "display_data"
    }
   ],
   "source": [
    "x0 = np.array([1.0,0])\n",
    "zeta, omega0 = 0.25, 3. * np.pi\n",
    "\n",
    "def ode(X,t):\n",
    "    \n",
    "    x, dotx = X\n",
    "    ddotx = -omega0**2 * x - 2*zeta*omega0 * dotx\n",
    "    return np.array([dotx, ddotx])\n",
    "\n",
    "def runge_kutta45(f, initial_state, t):\n",
    "    \n",
    "    y = np.zeros((2, len(t)))\n",
    "    y[:,0] = initial_state\n",
    "    \n",
    "    for i in range(0, len(t)-1):\n",
    "        h = t[i+1] - t[i]\n",
    "        k1 = h * f(y[:, i], t[i])\n",
    "        k2 = h * f(y[:, i] + k1/2, t[i] + h/2)\n",
    "        k3 = h * f(y[:, i] + k2/2, t[i] + h/2)\n",
    "        k4 = h * f(y[:, i] + k3, t[i] + h)\n",
    "        y[:,i+1] = y[:,i] + 1/6*(k1 + 2*k2 + 2*k3 + k4)\n",
    "    return y\n",
    "    \n",
    "t = np.linspace(0,2, 101)\n",
    "x_rk =runge_kutta45(ode, initial_state=x0, t=t)\n",
    "\n",
    "plt.plot(t, x_rk[0,:], '.')"
   ]
  },
  {
   "cell_type": "code",
   "execution_count": 130,
   "metadata": {},
   "outputs": [],
   "source": [
    "norm = np.linalg.norm\n",
    "def mrp_sum(g1, g2):\n",
    "    \n",
    "    norm1 = norm(g1)\n",
    "    norm2 = norm(g2)\n",
    "    \n",
    "    g_sum = ((1-norm1**2)*g2 +(1-norm2**2)*g1 - 2*np.cross(g1, g2)) / (1 + norm1**2 * norm2**2 - 2 * np.dot(g1, g2))\n",
    "    return g_sum\n",
    "\n",
    "\n",
    "def mrp_to_dcm(mrp_vector):\n",
    "    \n",
    "    identity = np.identity(3)\n",
    "    mrp_cross_matrix = tilde(mrp_vector)\n",
    "    norm_mrp = norm(mrp_vector)\n",
    "    dcm = identity + (8 * mrp_cross_matrix @ mrp_cross_matrix - 4 * (1 - norm_mrp ** 2) * mrp_cross_matrix) / \\\n",
    "                     ((1 + norm_mrp ** 2) ** 2)\n",
    "    return dcm\n",
    "\n",
    "def b_matrix_mrp(mrp_vector):\n",
    "    return (1-norm(mrp_vector)**2)*np.identity(3) + 2*tilde(mrp_vector) + 2 * np.outer(mrp_vector, mrp_vector)"
   ]
  },
  {
   "cell_type": "code",
   "execution_count": 131,
   "metadata": {},
   "outputs": [
    {
     "data": {
      "text/plain": [
       "array([[ 1.02,  0.24,  0.16],\n",
       "       [-0.16,  0.96, -0.42],\n",
       "       [-0.24,  0.38,  0.96]])"
      ]
     },
     "execution_count": 131,
     "metadata": {},
     "output_type": "execute_result"
    }
   ],
   "source": [
    "a = np.array([0.2,0.1,-0.1])\n",
    "b_matrix_mrp(a)"
   ]
  },
  {
   "cell_type": "code",
   "execution_count": 279,
   "metadata": {},
   "outputs": [
    {
     "name": "stdout",
     "output_type": "stream",
     "text": [
      "**************************************************\n",
      "sigma_br norm at 45.00149159663866 :  0.34278046203224943\n",
      "omega_br norm at 45.00149159663866 :  0.0968927178668191\n",
      "**************************************************\n",
      "sigma_br norm at 45.00149159663866 :  0.3427804621410939\n",
      "omega_br norm at 45.00149159663866 :  0.09689283956204182\n"
     ]
    },
    {
     "ename": "IndexError",
     "evalue": "index 3333 is out of bounds for axis 1 with size 3333",
     "output_type": "error",
     "traceback": [
      "\u001b[0;31m---------------------------------------------------------------------------\u001b[0m",
      "\u001b[0;31mIndexError\u001b[0m                                Traceback (most recent call last)",
      "Cell \u001b[0;32mIn[279], line 129\u001b[0m\n\u001b[1;32m    126\u001b[0m sigmas \u001b[38;5;241m=\u001b[39m np\u001b[38;5;241m.\u001b[39mzeros((\u001b[38;5;241m3\u001b[39m, \u001b[38;5;28mlen\u001b[39m(t)))\n\u001b[1;32m    127\u001b[0m sigmas[:,\u001b[38;5;241m0\u001b[39m] \u001b[38;5;241m=\u001b[39m sigma_bn_0\n\u001b[0;32m--> 129\u001b[0m state \u001b[38;5;241m=\u001b[39m \u001b[43mrunge_kutta45\u001b[49m\u001b[43m(\u001b[49m\u001b[43mstate_derivatives\u001b[49m\u001b[43m,\u001b[49m\u001b[43m \u001b[49m\u001b[43mt\u001b[49m\u001b[43m,\u001b[49m\n\u001b[1;32m    130\u001b[0m \u001b[43m                    \u001b[49m\u001b[43minitial_state\u001b[49m\u001b[43m,\u001b[49m\n\u001b[1;32m    131\u001b[0m \u001b[43m                    \u001b[49m\u001b[43mtime_step\u001b[49m\u001b[38;5;241;43m=\u001b[39;49m\u001b[43mh\u001b[49m\u001b[43m,\u001b[49m\n\u001b[1;32m    132\u001b[0m \u001b[43m                    \u001b[49m\u001b[43minertia_matrix\u001b[49m\u001b[38;5;241;43m=\u001b[39;49m\u001b[43minertia_matrix\u001b[49m\u001b[43m,\u001b[49m\n\u001b[1;32m    133\u001b[0m \u001b[43m                    \u001b[49m\u001b[43mexternal_torque\u001b[49m\u001b[43m \u001b[49m\u001b[38;5;241;43m=\u001b[39;49m\u001b[43m \u001b[49m\u001b[43mexternal_torque\u001b[49m\u001b[43m,\u001b[49m\n\u001b[1;32m    134\u001b[0m \u001b[43m                    \u001b[49m\u001b[43msigma_history\u001b[49m\u001b[43m \u001b[49m\u001b[38;5;241;43m=\u001b[39;49m\u001b[43m \u001b[49m\u001b[43msigmas\u001b[49m\u001b[43m)\u001b[49m\n",
      "Cell \u001b[0;32mIn[279], line 106\u001b[0m, in \u001b[0;36mrunge_kutta45\u001b[0;34m(f, t, initial_state, **kwargs)\u001b[0m\n\u001b[1;32m    104\u001b[0m     k2 \u001b[38;5;241m=\u001b[39m h \u001b[38;5;241m*\u001b[39m f(X[:, i] \u001b[38;5;241m+\u001b[39m k1\u001b[38;5;241m/\u001b[39m\u001b[38;5;241m2\u001b[39m, t[i] \u001b[38;5;241m+\u001b[39m h\u001b[38;5;241m/\u001b[39m\u001b[38;5;241m2\u001b[39m, initial_state\u001b[38;5;241m=\u001b[39minitial_state, \u001b[38;5;241m*\u001b[39m\u001b[38;5;241m*\u001b[39mkwargs)\n\u001b[1;32m    105\u001b[0m     k3 \u001b[38;5;241m=\u001b[39m h \u001b[38;5;241m*\u001b[39m f(X[:, i] \u001b[38;5;241m+\u001b[39m k2\u001b[38;5;241m/\u001b[39m\u001b[38;5;241m2\u001b[39m, t[i] \u001b[38;5;241m+\u001b[39m h\u001b[38;5;241m/\u001b[39m\u001b[38;5;241m2\u001b[39m, initial_state\u001b[38;5;241m=\u001b[39minitial_state, \u001b[38;5;241m*\u001b[39m\u001b[38;5;241m*\u001b[39mkwargs)\n\u001b[0;32m--> 106\u001b[0m     k4 \u001b[38;5;241m=\u001b[39m h \u001b[38;5;241m*\u001b[39m \u001b[43mf\u001b[49m\u001b[43m(\u001b[49m\u001b[43mX\u001b[49m\u001b[43m[\u001b[49m\u001b[43m:\u001b[49m\u001b[43m,\u001b[49m\u001b[43m \u001b[49m\u001b[43mi\u001b[49m\u001b[43m]\u001b[49m\u001b[43m \u001b[49m\u001b[38;5;241;43m+\u001b[39;49m\u001b[43m \u001b[49m\u001b[43mk3\u001b[49m\u001b[43m,\u001b[49m\u001b[43m \u001b[49m\u001b[43mt\u001b[49m\u001b[43m[\u001b[49m\u001b[43mi\u001b[49m\u001b[43m]\u001b[49m\u001b[43m \u001b[49m\u001b[38;5;241;43m+\u001b[39;49m\u001b[43m \u001b[49m\u001b[43mh\u001b[49m\u001b[43m,\u001b[49m\u001b[43m \u001b[49m\u001b[43minitial_state\u001b[49m\u001b[38;5;241;43m=\u001b[39;49m\u001b[43minitial_state\u001b[49m\u001b[43m,\u001b[49m\u001b[43m \u001b[49m\u001b[38;5;241;43m*\u001b[39;49m\u001b[38;5;241;43m*\u001b[39;49m\u001b[43mkwargs\u001b[49m\u001b[43m)\u001b[49m\n\u001b[1;32m    107\u001b[0m     X[:,i\u001b[38;5;241m+\u001b[39m\u001b[38;5;241m1\u001b[39m] \u001b[38;5;241m=\u001b[39m X[:,i] \u001b[38;5;241m+\u001b[39m \u001b[38;5;241m1\u001b[39m\u001b[38;5;241m/\u001b[39m\u001b[38;5;241m6\u001b[39m\u001b[38;5;241m*\u001b[39m(k1 \u001b[38;5;241m+\u001b[39m \u001b[38;5;241m2\u001b[39m\u001b[38;5;241m*\u001b[39mk2 \u001b[38;5;241m+\u001b[39m \u001b[38;5;241m2\u001b[39m\u001b[38;5;241m*\u001b[39mk3 \u001b[38;5;241m+\u001b[39m k4)\n\u001b[1;32m    108\u001b[0m \u001b[38;5;28;01mreturn\u001b[39;00m X\n",
      "Cell \u001b[0;32mIn[279], line 36\u001b[0m, in \u001b[0;36mstate_derivatives\u001b[0;34m(X, t, time_step, inertia_matrix, external_torque, sigma_history, initial_state)\u001b[0m\n\u001b[1;32m     33\u001b[0m P \u001b[38;5;241m=\u001b[39m \u001b[38;5;241m10\u001b[39m\n\u001b[1;32m     34\u001b[0m Ki \u001b[38;5;241m=\u001b[39m \u001b[38;5;241m0.005\u001b[39m\n\u001b[0;32m---> 36\u001b[0m sigma_history[:, \u001b[38;5;28mint\u001b[39m(t\u001b[38;5;241m/\u001b[39mtime_step)] \u001b[38;5;241m=\u001b[39m mrp_br\n\u001b[1;32m     38\u001b[0m \u001b[38;5;66;03m# u = -K*mrp_bn - P*omega_bn + omega_bn_cross @ inertia_matrix @ omega_bn\u001b[39;00m\n\u001b[1;32m     40\u001b[0m omega_bn_0 \u001b[38;5;241m=\u001b[39m initial_state[:\u001b[38;5;241m3\u001b[39m]\n",
      "\u001b[0;31mIndexError\u001b[0m: index 3333 is out of bounds for axis 1 with size 3333"
     ]
    }
   ],
   "source": [
    "def state_derivatives(X, t, time_step, inertia_matrix, external_torque, sigma_history, initial_state):\n",
    "    \n",
    "    identity = np.identity(3)\n",
    "    \n",
    "    # Principal moments of inertia\n",
    "    i_1 = inertia_matrix[0, 0]\n",
    "    i_2 = inertia_matrix[1, 1]\n",
    "    i_3 = inertia_matrix[2, 2]\n",
    "    \n",
    "    omega_bn = X[0:3]\n",
    "    mrp_bn = X[3:]\n",
    "    \n",
    "    mrp_rn, omega_rn_rframe = mrp_omega_rn(t)\n",
    "    omega_rn_dot_vect = omega_rn_dot(t, time_step)\n",
    "    \n",
    "    mrp_br = mrp_sum(-mrp_rn, mrp_bn)\n",
    "    mrp_br_norm = norm(mrp_br)\n",
    "    if mrp_br_norm > 1:\n",
    "        mrp_br = -mrp_br / (mrp_br_norm**2)\n",
    "        \n",
    "    dcm_br = mrp_to_dcm(mrp_br)\n",
    "    omega_rn = dcm_br @ omega_rn_rframe\n",
    "    omega_br = omega_bn - omega_rn\n",
    "    omega_bn_cross = tilde(omega_bn)\n",
    "    \n",
    "    if np.abs(t-45) < 1e-2:\n",
    "        print('*'*50)\n",
    "        print(\"sigma_br norm at\", t, \": \", norm(mrp_br))\n",
    "        print(\"omega_br norm at\", t, \": \", norm(omega_br))\n",
    "    \n",
    "    # Control Vector\n",
    "    K = 5\n",
    "    P = 10\n",
    "    Ki = 0.005\n",
    "\n",
    "    sigma_history[:, int(t/time_step)] = mrp_br\n",
    "    \n",
    "    # u = -K*mrp_bn - P*omega_bn + omega_bn_cross @ inertia_matrix @ omega_bn\n",
    "    \n",
    "    omega_bn_0 = initial_state[:3]\n",
    "    _, omega_rn_0 = mrp_omega_rn(0)\n",
    "    omega_br_0 = omega_bn_0 - omega_rn_0\n",
    "    \n",
    "    z = K * time_step * np.sum(sigma_history, axis=1) + inertia_matrix @ (omega_br - omega_br_0)\n",
    "            \n",
    "    u = -K*mrp_br - P*omega_br + inertia_matrix @ (omega_rn_dot_vect - omega_bn_cross @ omega_rn) \\\n",
    "        + omega_bn_cross @ inertia_matrix @ omega_bn - P*Ki*z\n",
    "        \n",
    "    # u = -K*mrp_br - P*omega_br\n",
    "    \n",
    "    mrp_bn_dot = 0.25 * b_matrix_mrp(mrp_bn) @ omega_bn\n",
    "    omega_1_bn_dot = (i_2 - i_3) / i_1 * omega_bn[2] * omega_bn[1] + (u[0] + external_torque[0]) / i_1\n",
    "    omega_2_bn_dot = (i_3 - i_1) / i_2 * omega_bn[0] * omega_bn[2] + (u[1] + external_torque[1]) / i_2\n",
    "    omega_3_bn_dot = (i_1 - i_2) / i_3 * omega_bn[1] * omega_bn[0] + (u[2] + external_torque[2]) / i_3\n",
    "    omega_bn_dot = np.array([omega_1_bn_dot, omega_2_bn_dot, omega_3_bn_dot])\n",
    "    \n",
    "    x_dot = np.insert(omega_bn_dot, 3, mrp_bn_dot, axis=0)\n",
    "    return x_dot\n",
    "\n",
    "def sigma_rn(t):\n",
    "    f = 0.05\n",
    "    return np.array([\n",
    "        0.2 * np.sin(f*t), 0.3 * np.cos(f*t), -0.3 * np.sin(f*t)\n",
    "    ])\n",
    "    # return np.array([0,0,0])\n",
    "    \n",
    "def sigma_rn_dot(t):\n",
    "    f = 0.05\n",
    "    return f * np.array([\n",
    "        0.2 * np.cos(f*t), -0.3 * np.sin(f*t), -0.3 * np.cos(f*t)\n",
    "    ])\n",
    "    # return np.array([0,0,0])\n",
    "\n",
    "def mrp_omega_rn(t):\n",
    "    \n",
    "    mrp_rn = sigma_rn(t)\n",
    "    mrp_rn_norm = norm(mrp_rn)\n",
    "    b_matrix_rn = b_matrix_mrp(mrp_rn)\n",
    "    b_matrix_rn_inv = np.transpose(b_matrix_rn) / (1 + mrp_rn_norm**2)\n",
    "    \n",
    "    omega_rn = 4 * b_matrix_rn_inv @ sigma_rn_dot(t)\n",
    "    \n",
    "    return mrp_rn, omega_rn\n",
    "\n",
    "def omega_rn_dot(t, time_step):\n",
    "    \n",
    "    _, omega_rn_before = mrp_omega_rn(t - time_step)\n",
    "    _, omega_rn_after = mrp_omega_rn(t + time_step)\n",
    "    omega_rn_dot = (omega_rn_after - omega_rn_before) / (2 * time_step)\n",
    "    return omega_rn_dot\n",
    "    \n",
    "    \n",
    "    \n",
    "\n",
    "\n",
    "def runge_kutta45(f, t, initial_state, **kwargs):\n",
    "    \n",
    "    X = np.zeros((6, len(t)))\n",
    "    X[:,0] = initial_state\n",
    "    \n",
    "    for i in range(0, len(t)-1):\n",
    "        h = t[i+1] - t[i]\n",
    "        k1 = h * f(X[:, i], t[i], initial_state=initial_state, **kwargs)\n",
    "        k2 = h * f(X[:, i] + k1/2, t[i] + h/2, initial_state=initial_state, **kwargs)\n",
    "        k3 = h * f(X[:, i] + k2/2, t[i] + h/2, initial_state=initial_state, **kwargs)\n",
    "        k4 = h * f(X[:, i] + k3, t[i] + h, initial_state=initial_state, **kwargs)\n",
    "        X[:,i+1] = X[:,i] + 1/6*(k1 + 2*k2 + 2*k3 + k4)\n",
    "    return X\n",
    "\n",
    "# Initial Conditions\n",
    "omega_bn_0 = np.deg2rad([3,1,-2])\n",
    "sigma_bn_0 = np.array([0.1,0.2,-0.1])\n",
    "\n",
    "\n",
    "initial_state = np.insert(omega_bn_0, 3, sigma_bn_0, axis=0)\n",
    "\n",
    "inertia_matrix = np.diag(np.array([100,75,80]))\n",
    "\n",
    "external_torque = np.array([0.5,-0.3,0.2])\n",
    "\n",
    "# Time interval\n",
    "h = 0.03\n",
    "t0 = 0\n",
    "tf = 100\n",
    "t = np.linspace(t0, tf+h, int(tf/h))\n",
    "sigmas = np.zeros((3, len(t)))\n",
    "sigmas[:,0] = sigma_bn_0\n",
    "\n",
    "state = runge_kutta45(state_derivatives, t,\n",
    "                    initial_state,\n",
    "                    time_step=h,\n",
    "                    inertia_matrix=inertia_matrix,\n",
    "                    external_torque = external_torque,\n",
    "                    sigma_history = sigmas)\n",
    "\n",
    "              \n",
    "        "
   ]
  },
  {
   "cell_type": "code",
   "execution_count": 281,
   "metadata": {},
   "outputs": [
    {
     "data": {
      "image/png": "[encoded data removed]",
      "text/plain": [
       "<Figure size 640x480 with 1 Axes>"
      ]
     },
     "metadata": {},
     "output_type": "display_data"
    }
   ],
   "source": [
    "plt.plot(t, state[0,:])\n",
    "plt.plot(t, state[1,:])\n",
    "plt.plot(t, state[2,:])\n",
    "plt.grid()"
   ]
  },
  {
   "cell_type": "code",
   "execution_count": 282,
   "metadata": {},
   "outputs": [
    {
     "data": {
      "text/plain": [
       "<matplotlib.lines.Line2D at 0x10b096910>"
      ]
     },
     "execution_count": 282,
     "metadata": {},
     "output_type": "execute_result"
    },
    {
     "data": {
      "image/png": "[encoded data removed]",
      "text/plain": [
       "<Figure size 640x480 with 1 Axes>"
      ]
     },
     "metadata": {},
     "output_type": "display_data"
    }
   ],
   "source": [
    "plt.plot(t, state[3,:], '--')\n",
    "plt.plot(t, state[4,:],'--')\n",
    "plt.plot(t, state[5,:],'--')\n",
    "plt.grid()\n",
    "\n",
    "# plt.plot(t, 0.2*np.sin(0.05 * t), 'r--')\n",
    "# plt.plot(t, 0.3*np.cos(0.05 * t), 'b--')\n",
    "# plt.plot(t, -0.3*np.sin(0.05 * t), 'g--')\n",
    "\n",
    "plt.axhline(0.1)\n",
    "plt.axhline(-0.06)\n",
    "plt.axhline(0.04)"
   ]
  },
  {
   "cell_type": "code",
   "execution_count": 177,
   "metadata": {},
   "outputs": [
    {
     "data": {
      "text/plain": [
       "[<matplotlib.lines.Line2D at 0x10970c820>]"
      ]
     },
     "execution_count": 177,
     "metadata": {},
     "output_type": "execute_result"
    },
    {
     "data": {
      "image/png": "[encoded data removed]",
      "text/plain": [
       "<Figure size 640x480 with 1 Axes>"
      ]
     },
     "metadata": {},
     "output_type": "display_data"
    }
   ],
   "source": [
    "plt.plot(t, norm(state[:3,:], axis=0))"
   ]
  },
  {
   "cell_type": "code",
   "execution_count": 176,
   "metadata": {},
   "outputs": [
    {
     "data": {
      "text/plain": [
       "[<matplotlib.lines.Line2D at 0x10959abb0>]"
      ]
     },
     "execution_count": 176,
     "metadata": {},
     "output_type": "execute_result"
    },
    {
     "data": {
      "image/png": "[encoded data removed]",
      "text/plain": [
       "<Figure size 640x480 with 1 Axes>"
      ]
     },
     "metadata": {},
     "output_type": "display_data"
    }
   ],
   "source": [
    "plt.plot(t, norm(state[3:,:], axis=0))"
   ]
  },
  {
   "cell_type": "code",
   "execution_count": null,
   "metadata": {},
   "outputs": [],
   "source": []
  },
  {
   "cell_type": "code",
   "execution_count": 67,
   "metadata": {},
   "outputs": [],
   "source": [
    "norm = np.linalg.norm\n",
    "def mrp_sum(g1, g2):\n",
    "    \n",
    "    norm1 = norm(g1)\n",
    "    norm2 = norm(g2)\n",
    "    \n",
    "    g_sum = ((1-norm1**2)*g2 +(1-norm2**2)*g1 - 2*np.cross(g1, g2)) / (1 + norm1**2 * norm2**2 - 2 * np.dot(g1, g2))\n",
    "    return g_sum\n",
    "\n",
    "\n",
    "def mrp_to_dcm(mrp_vector):\n",
    "    \n",
    "    identity = np.identity(3)\n",
    "    mrp_cross_matrix = tilde(mrp_vector)\n",
    "    norm_mrp = norm(mrp_vector)\n",
    "    dcm = identity + (8 * mrp_cross_matrix @ mrp_cross_matrix - 4 * (1 - norm_mrp ** 2) * mrp_cross_matrix) / \\\n",
    "                     ((1 + norm_mrp ** 2) ** 2)\n",
    "    return dcm\n",
    "    \n",
    "def runge_kutta45(f, initial_state, t):\n",
    "    \n",
    "    y = np.zeros((2, len(t)))\n",
    "    y[:,0] = initial_state\n",
    "    \n",
    "    for i in range(0, len(t)-1):\n",
    "        h = t[i+1] - t[i]\n",
    "        k1 = h * f(y[:, i], t[i])\n",
    "        k2 = h * f(y[:, i] + k1/2, t[i] + h/2)\n",
    "        k3 = h * f(y[:, i] + k2/2, t[i] + h/2)\n",
    "        k4 = h * f(y[:, i] + k3, t[i] + h)\n",
    "        y[:,i+1] = y[:,i] + 1/6*(k1 + 2*k2 + 2*k3 + k4)\n",
    "    return y\n",
    "\n",
    "def state_space_derivative(x, t, inertia_matrix):\n",
    "    \"\"\"State space derivative definition.\n",
    "\n",
    "    First three elements are the omegas, the following three are the MRPs\"\"\"\n",
    "\n",
    "    # Identity matrix\n",
    "    identity_matrix = np.identity(3)\n",
    "\n",
    "    # Principal moments of inertia\n",
    "    i_1 = inertia_matrix[0, 0]\n",
    "    i_2 = inertia_matrix[1, 1]\n",
    "    i_3 = inertia_matrix[2, 2]\n",
    "\n",
    "    # Splitting the state space in omegas and modified rodrigues parameters (MRPs)\n",
    "    omega_bn_vect = x[0:3]\n",
    "    mrp_bn_vect = x[-3:]\n",
    "\n",
    "    # Norm and cross product matrix of the MRPs BN\n",
    "    mrp_bn_cross_matrix = tilde(mrp_bn_vect)\n",
    "    mrp_bn_norm = np.linalg.norm(mrp_bn_vect)\n",
    "\n",
    "    mrp_rn_vect, omega_rn_vect_rframe = mrp_and_omega_rn(t)\n",
    "\n",
    "    omega_rn_dot_vect = omega_dot_rn(t, h)\n",
    "    # TODO: the time step should be an input of the state_space_derivative function\n",
    "\n",
    "    # MRPs BR and check their norm is not bigger than 1, otherwise the shadow set is consider\n",
    "    mrp_br_vect = mrp_sum(-mrp_rn_vect, mrp_bn_vect)\n",
    "    mrp_br_norm = np.linalg.norm(mrp_br_vect)\n",
    "    if mrp_br_norm > 1:\n",
    "        mrp_br_vect = -mrp_br_vect / (mrp_br_norm ** 2)\n",
    "\n",
    "    # DCM_BR\n",
    "    dcm_br = mrp_to_dcm(mrp_br_vect)\n",
    "\n",
    "    # omega_rn in the b_frame\n",
    "    omega_rn_vect = np.dot(dcm_br, omega_rn_vect_rframe)\n",
    "\n",
    "    # omega_br\n",
    "    omega_br_vect = omega_bn_vect - omega_rn_vect\n",
    "\n",
    "    if t == 40:\n",
    "        print(\"sigma_br norm at \", t, \": \", np.linalg.norm(mrp_br_vect))\n",
    "\n",
    "    # Control vector\n",
    "    k = 5\n",
    "    p = 10\n",
    "    omega_bn_cross_matrix = tilde(omega_bn_vect)\n",
    "    u = - k * mrp_br_vect - p * np.dot(identity_matrix, omega_br_vect) + \\\n",
    "        np.dot(inertia_matrix, (omega_rn_dot_vect - np.cross(omega_bn_vect, omega_rn_vect))) + \\\n",
    "        omega_bn_cross_matrix.dot(inertia_matrix).dot(omega_bn_vect)\n",
    "\n",
    "    # Computation of the MRPs kinematic differential equation and omegas differential equations\n",
    "    mrp_bn_dot_vect = 0.25 * np.dot(((1 - mrp_bn_norm ** 2) * identity_matrix + 2 * mrp_bn_cross_matrix +\n",
    "                                     2 * np.outer(mrp_bn_vect, mrp_bn_vect)), omega_bn_vect)\n",
    "    omega_1_bn_dot = (i_2 - i_3) / i_1 * omega_bn_vect[2] * omega_bn_vect[1] + u[0] / i_1\n",
    "    omega_2_bn_dot = (i_3 - i_1) / i_2 * omega_bn_vect[0] * omega_bn_vect[2] + u[1] / i_2\n",
    "    omega_3_bn_dot = (i_1 - i_2) / i_3 * omega_bn_vect[1] * omega_bn_vect[0] + u[2] / i_3\n",
    "    omega_bn_dot_vect = np.array([omega_1_bn_dot, omega_2_bn_dot, omega_3_bn_dot])\n",
    "\n",
    "    # Assembly of the state space derivative vector as the three omegas_dot and teh three MRPs_dot\n",
    "    x_dot = np.insert(omega_bn_dot_vect, 3, mrp_bn_dot_vect, axis=0)\n",
    "    return x_dot\n",
    "\n",
    "\n",
    "def sigma_rn(t):\n",
    "    f = 0.05\n",
    "    sig_rn = np.array([0.2 * np.sin(f * t), 0.3 * np.cos(f * t), -0.3 * np.sin(f * t)])\n",
    "    return sig_rn\n",
    "\n",
    "\n",
    "def sigma_rn_prime(t):\n",
    "    f = 0.05\n",
    "    sig_rn_prime = f * np.array([0.2 * np.cos(f * t), -0.3 * np.sin(f * t), -0.3 * np.cos(f * t)])\n",
    "    return sig_rn_prime\n",
    "\n",
    "\n",
    "def mrp_and_omega_rn(t):\n",
    "    identity_mat = np.identity(3)\n",
    "    # MRPs RN (and derivative)\n",
    "    mrp_rn = sigma_rn(t)\n",
    "    mrp_rn_norm = np.linalg.norm(mrp_rn)\n",
    "    mrp_rn_cross_matrix = tilde(mrp_rn)\n",
    "    mrp_rn_dot = sigma_rn_prime(t)\n",
    "\n",
    "    # B matrix of the MRPs kinematic differential equation (Eq. 3.155)\n",
    "    b_matrix = 0.25 * ((1 - mrp_rn_norm ** 2) * identity_mat + 2 * mrp_rn_cross_matrix + 2 * np.outer(mrp_rn, mrp_rn))\n",
    "\n",
    "    # omega_rn in r-frame, computed as (Eq. 3.158)\n",
    "    omega_rn_rframe = 4 / ((1 + mrp_rn_norm ** 2) ** 2) * np.dot(b_matrix.transpose(), mrp_rn_dot)\n",
    "\n",
    "    return mrp_rn, omega_rn_rframe\n",
    "\n",
    "\n",
    "def omega_dot_rn(t, tstep):\n",
    "    _, omega_rn_before = mrp_and_omega_rn(t-tstep)\n",
    "    _, omega_rn_after = mrp_and_omega_rn(t+tstep)\n",
    "    omega_rn_dot = (omega_rn_after - omega_rn_before) / (2 * tstep)\n",
    "    return omega_rn_dot\n",
    "\n",
    "\n",
    "# Initial conditions\n",
    "omega_bn_zero = np.deg2rad(np.array([30, 10, -20]))\n",
    "sigma_bn_zero = np.array([0.1, 0.2, -0.1])\n",
    "state_vector_initial = np.insert(omega_bn_zero, 3, sigma_bn_zero, axis=0)\n",
    "\n",
    "# Inertia matrix\n",
    "inertia_mat = np.diag(np.array([100, 75, 80]))\n",
    "\n",
    "# Time interval\n",
    "h = 0.01\n",
    "initial_t = 0\n",
    "final_t = 40\n",
    "t_vect, omega = runge_kutta(state_space_derivative, initial_t, final_t, state_vector_initial, h, inertia_mat)\n",
    "\n",
    "\n",
    "    "
   ]
  },
  {
   "cell_type": "code",
   "execution_count": 51,
   "metadata": {},
   "outputs": [
    {
     "name": "stdout",
     "output_type": "stream",
     "text": [
      "MRP<[nan nan nan]>\n"
     ]
    },
    {
     "name": "stderr",
     "output_type": "stream",
     "text": [
      "/var/folders/fr/6_7v365d1sd712jpqdkltk4w0000gn/T/ipykernel_2959/221276785.py:35: RuntimeWarning: overflow encountered in matmul\n",
      "  sigma_dot = 0.25 * sigma.b_matrix @ omega\n",
      "/var/folders/fr/6_7v365d1sd712jpqdkltk4w0000gn/T/ipykernel_2959/221276785.py:33: RuntimeWarning: invalid value encountered in matmul\n",
      "  omega_dot = np.linalg.inv(inertia) @ (-gyroscopic + control + L)\n",
      "/Users/sam/Documents/optimization/refactor/mrp.py:29: RuntimeWarning: invalid value encountered in scalar add\n",
      "  [1-norm_2+2*s1**2, 2*(s1*s2-s3), 2*(s1*s3+s2)],\n",
      "/Users/sam/Documents/optimization/refactor/mrp.py:29: RuntimeWarning: invalid value encountered in scalar subtract\n",
      "  [1-norm_2+2*s1**2, 2*(s1*s2-s3), 2*(s1*s3+s2)],\n",
      "/Users/sam/Documents/optimization/refactor/mrp.py:30: RuntimeWarning: invalid value encountered in scalar add\n",
      "  [2*(s2*s1+s3), 1-norm_2+2*s2**2, 2*(s2*s3-s1)],\n",
      "/Users/sam/Documents/optimization/refactor/mrp.py:30: RuntimeWarning: invalid value encountered in scalar subtract\n",
      "  [2*(s2*s1+s3), 1-norm_2+2*s2**2, 2*(s2*s3-s1)],\n",
      "/Users/sam/Documents/optimization/refactor/mrp.py:31: RuntimeWarning: invalid value encountered in scalar subtract\n",
      "  [2*(s3*s1-s2), 2*(s3*s2+s1), 1-norm_2+s3**2]\n",
      "/Users/sam/Documents/optimization/refactor/mrp.py:31: RuntimeWarning: invalid value encountered in scalar add\n",
      "  [2*(s3*s1-s2), 2*(s3*s2+s1), 1-norm_2+s3**2]\n"
     ]
    }
   ],
   "source": [
    "inertia = np.array([\n",
    "    [100,0,0],\n",
    "    [0,75,0],\n",
    "    [0,0,80]\n",
    "])\n",
    "\n",
    "sigma0 = MRP(0.1,0.2,-0.1)\n",
    "omega0 = np.deg2rad(np.array([30,10,-20]))\n",
    "\n",
    "K = 5\n",
    "P = 10 * np.eye(3)\n",
    "L = 0\n",
    "\n",
    "\n",
    "t0, tf = 0, 30\n",
    "step = 0.01\n",
    "length = int(round(tf-t0)/step)\n",
    "time = np.linspace(t0, tf+step, length)\n",
    "\n",
    "\n",
    "\n",
    "results = []\n",
    "\n",
    "control_history = []\n",
    "sigma = sigma0\n",
    "omega = omega0\n",
    "omega_r = np.array([0,0,0])\n",
    "for t in time:\n",
    "    \n",
    "    gyroscopic = tilde(omega) @ (inertia@omega)\n",
    "    control = -K*sigma.vector - P@omega + inertia@(omega_r - tilde(omega)@omega_r) + gyroscopic - L\n",
    "    \n",
    "    omega_dot = np.linalg.inv(inertia) @ (-gyroscopic + control + L)\n",
    "    omega += omega_dot * step\n",
    "    sigma_dot = 0.25 * sigma.b_matrix @ omega\n",
    "    \n",
    "    sigma_new = sigma.vector + sigma_dot\n",
    "    sigma = MRP(*sigma_new)\n",
    "\n",
    "print(sigma)\n",
    "    \n",
    "    "
   ]
  },
  {
   "cell_type": "code",
   "execution_count": 284,
   "metadata": {},
   "outputs": [
    {
     "data": {
      "text/plain": [
       "array([22.36067977, 19.36491673, 20.        ])"
      ]
     },
     "execution_count": 284,
     "metadata": {},
     "output_type": "execute_result"
    }
   ],
   "source": [
    "np.sqrt(5)*np.sqrt([100, 75, 80])"
   ]
  },
  {
   "cell_type": "code",
   "execution_count": null,
   "metadata": {},
   "outputs": [],
   "source": [
    "def state_derivatives(X, t, time_step, inertia_matrix, external_torque, sigma_history, initial_state):\n",
    "    \n",
    "    identity = np.identity(3)\n",
    "    \n",
    "    # Principal moments of inertia\n",
    "    i_1 = inertia_matrix[0, 0]\n",
    "    i_2 = inertia_matrix[1, 1]\n",
    "    i_3 = inertia_matrix[2, 2]\n",
    "    \n",
    "    omega_bn = X[0:3]\n",
    "    mrp_bn = X[3:]\n",
    "    \n",
    "    mrp_rn, omega_rn_rframe = mrp_omega_rn(t)\n",
    "    omega_rn_dot_vect = omega_rn_dot(t, time_step)\n",
    "    \n",
    "    mrp_br = mrp_sum(-mrp_rn, mrp_bn)\n",
    "    mrp_br_norm = norm(mrp_br)\n",
    "    if mrp_br_norm > 1:\n",
    "        mrp_br = -mrp_br / (mrp_br_norm**2)\n",
    "        \n",
    "    dcm_br = mrp_to_dcm(mrp_br)\n",
    "    omega_rn = dcm_br @ omega_rn_rframe\n",
    "    omega_br = omega_bn - omega_rn\n",
    "    omega_bn_cross = tilde(omega_bn)\n",
    "    \n",
    "    if np.abs(t-45) < 1e-2:\n",
    "        print('*'*50)\n",
    "        print(\"sigma_br norm at\", t, \": \", norm(mrp_br))\n",
    "        print(\"omega_br norm at\", t, \": \", norm(omega_br))\n",
    "    \n",
    "    # Control Vector\n",
    "    K = 5\n",
    "    P = 10\n",
    "    Ki = 0.005\n",
    "\n",
    "    sigma_history[:, int(t/time_step)] = mrp_br\n",
    "    \n",
    "    # u = -K*mrp_bn - P*omega_bn + omega_bn_cross @ inertia_matrix @ omega_bn\n",
    "    \n",
    "    omega_bn_0 = initial_state[:3]\n",
    "    _, omega_rn_0 = mrp_omega_rn(0)\n",
    "    omega_br_0 = omega_bn_0 - omega_rn_0\n",
    "    \n",
    "    z = K * time_step * np.sum(sigma_history, axis=1) + inertia_matrix @ (omega_br - omega_br_0)\n",
    "            \n",
    "    u = -K*mrp_br - P*omega_br + inertia_matrix @ (omega_rn_dot_vect - omega_bn_cross @ omega_rn) \\\n",
    "        + omega_bn_cross @ inertia_matrix @ omega_bn - P*Ki*z\n",
    "        \n",
    "    # u = -K*mrp_br - P*omega_br\n",
    "    \n",
    "    mrp_bn_dot = 0.25 * b_matrix_mrp(mrp_bn) @ omega_bn\n",
    "    omega_1_bn_dot = (i_2 - i_3) / i_1 * omega_bn[2] * omega_bn[1] + (u[0] + external_torque[0]) / i_1\n",
    "    omega_2_bn_dot = (i_3 - i_1) / i_2 * omega_bn[0] * omega_bn[2] + (u[1] + external_torque[1]) / i_2\n",
    "    omega_3_bn_dot = (i_1 - i_2) / i_3 * omega_bn[1] * omega_bn[0] + (u[2] + external_torque[2]) / i_3\n",
    "    omega_bn_dot = np.array([omega_1_bn_dot, omega_2_bn_dot, omega_3_bn_dot])\n",
    "    \n",
    "    x_dot = np.insert(omega_bn_dot, 3, mrp_bn_dot, axis=0)\n",
    "    return x_dot\n",
    "\n",
    "def sigma_rn(t):\n",
    "\n",
    "    return np.array([0,0,0])\n",
    "    \n",
    "def sigma_rn_dot(t):\n",
    "\n",
    "    return np.array([0,0,0])\n",
    "\n",
    "def mrp_omega_rn(t):\n",
    "    \n",
    "    mrp_rn = sigma_rn(t)\n",
    "    mrp_rn_norm = norm(mrp_rn)\n",
    "    b_matrix_rn = b_matrix_mrp(mrp_rn)\n",
    "    b_matrix_rn_inv = np.transpose(b_matrix_rn) / (1 + mrp_rn_norm**2)\n",
    "    \n",
    "    omega_rn = 4 * b_matrix_rn_inv @ sigma_rn_dot(t)\n",
    "    \n",
    "    return mrp_rn, omega_rn\n",
    "\n",
    "def omega_rn_dot(t, time_step):\n",
    "    \n",
    "    _, omega_rn_before = mrp_omega_rn(t - time_step)\n",
    "    _, omega_rn_after = mrp_omega_rn(t + time_step)\n",
    "    omega_rn_dot = (omega_rn_after - omega_rn_before) / (2 * time_step)\n",
    "    return omega_rn_dot\n",
    "    \n",
    "    \n",
    "    \n",
    "\n",
    "\n",
    "def runge_kutta45(f, t, initial_state, **kwargs):\n",
    "    \n",
    "    X = np.zeros((6, len(t)))\n",
    "    X[:,0] = initial_state\n",
    "    \n",
    "    for i in range(0, len(t)-1):\n",
    "        h = t[i+1] - t[i]\n",
    "        k1 = h * f(X[:, i], t[i], initial_state=initial_state, **kwargs)\n",
    "        k2 = h * f(X[:, i] + k1/2, t[i] + h/2, initial_state=initial_state, **kwargs)\n",
    "        k3 = h * f(X[:, i] + k2/2, t[i] + h/2, initial_state=initial_state, **kwargs)\n",
    "        k4 = h * f(X[:, i] + k3, t[i] + h, initial_state=initial_state, **kwargs)\n",
    "        X[:,i+1] = X[:,i] + 1/6*(k1 + 2*k2 + 2*k3 + k4)\n",
    "    return X\n",
    "\n",
    "# Initial Conditions\n",
    "omega_bn_0 = np.deg2rad([3,1,-2])\n",
    "sigma_bn_0 = np.array([0.1,0.2,-0.1])\n",
    "\n",
    "\n",
    "initial_state = np.insert(omega_bn_0, 3, sigma_bn_0, axis=0)\n",
    "\n",
    "inertia_matrix = np.diag(np.array([100,75,80]))\n",
    "\n",
    "external_torque = np.array([0,0,0])\n",
    "\n",
    "# Time interval\n",
    "h = 0.03\n",
    "t0 = 0\n",
    "tf = 100\n",
    "t = np.linspace(t0, tf+h, int(tf/h))\n",
    "sigmas = np.zeros((3, len(t)))\n",
    "sigmas[:,0] = sigma_bn_0\n",
    "\n",
    "state = runge_kutta45(state_derivatives, t,\n",
    "                    initial_state,\n",
    "                    time_step=h,\n",
    "                    inertia_matrix=inertia_matrix,\n",
    "                    external_torque = external_torque)\n"
   ]
  }
 ],
 "metadata": {
  "kernelspec": {
   "display_name": "py372",
   "language": "python",
   "name": "python3"
  },
  "language_info": {
   "codemirror_mode": {
    "name": "ipython",
    "version": 3
   },
   "file_extension": ".py",
   "mimetype": "text/x-python",
   "name": "python",
   "nbconvert_exporter": "python",
   "pygments_lexer": "ipython3",
   "version": "3.8.18"
  }
 },
 "nbformat": 4,
 "nbformat_minor": 2
}
